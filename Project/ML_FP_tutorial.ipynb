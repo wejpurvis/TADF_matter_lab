{
 "cells": [
  {
   "cell_type": "code",
   "execution_count": 2,
   "metadata": {},
   "outputs": [],
   "source": [
    "import pandas as pd\n",
    "import pickle\n",
    "from rdkit import Chem\n",
    "from rdkit.Chem import AllChem\n",
    "from rdkit.Chem import PandasTools\n",
    "import numpy as np"
   ]
  },
  {
   "cell_type": "markdown",
   "metadata": {},
   "source": [
    "### Data Preprocessing: Fingerprint generation"
   ]
  },
  {
   "cell_type": "code",
   "execution_count": 4,
   "metadata": {},
   "outputs": [],
   "source": [
    "smi = pd.read_csv('./data/OLED_dataset_CSV.csv', encoding='windows-1252') # load your csv file\n",
    "\n",
    "target_atom = ['Sn']\n",
    "\n",
    "Unnecessary_chromophores = []\n",
    "\n",
    "for i in smi['Chromophore']:\n",
    "    mol = Chem.MolFromSmiles(i)\n",
    "    atoms = [atom.GetSymbol() for atom in mol.GetAtoms()]\n",
    "    intersection = set(target_atom).intersection(atoms)\n",
    "    if len(intersection) != 0:\n",
    "        Unnecessary_chromophores.append(i)\n",
    "    else:\n",
    "        pass\n",
    "\n",
    "filtered_smi = smi[~smi['Chromophore'].isin(Unnecessary_chromophores)]"
   ]
  },
  {
   "cell_type": "code",
   "execution_count": 5,
   "metadata": {},
   "outputs": [],
   "source": [
    "Mfp = {}\n",
    "\n",
    "for i in filtered_smi['Chromophore']:\n",
    "    smiles = i\n",
    "    molecule = Chem.MolFromSmiles(smiles)\n",
    "    fingerprint = AllChem.GetMorganFingerprintAsBitVect(molecule, 3, nBits=1024)\n",
    "    numerized_fingerprint = [int(fingerprint[i]) for i in range(fingerprint.GetNumBits())]\n",
    "    nf = np.array(numerized_fingerprint)\n",
    "    Mfp[i] = nf"
   ]
  },
  {
   "cell_type": "code",
   "execution_count": 6,
   "metadata": {},
   "outputs": [],
   "source": [
    "oled = pd.read_csv('./data/OLED_dataset_CSV.csv', encoding='windows-1252')\n",
    "oled = oled[oled.Solvent != 'gas']\n",
    "oled_sol = oled['Solvent'].drop_duplicates()\n",
    "oled_sol.to_csv('solvents.csv')"
   ]
  },
  {
   "cell_type": "code",
   "execution_count": 14,
   "metadata": {},
   "outputs": [],
   "source": [
    "os = pd.read_csv('solvents.csv', encoding='windows-1252')\n",
    "\n",
    "Mfp_sol = {}\n",
    "\n",
    "Unnecessary_solvents = []\n",
    "\n",
    "for i in os['Solvent']:\n",
    "    mol = Chem.MolFromSmiles(i)\n",
    "    atoms = [atom.GetSymbol() for atom in mol.GetAtoms()]\n",
    "    intersection = set(target_atom).intersection(atoms)\n",
    "    if len(intersection) != 0:\n",
    "        Unnecessary_solvents.append(i)\n",
    "    else:\n",
    "        pass\n",
    "\n",
    "filtered_sol = os[~os['Solvent'].isin(Unnecessary_solvents)]\n",
    "\n",
    "for i in filtered_sol['Solvent']:\n",
    "    smiles = i\n",
    "    molecule = Chem.MolFromSmiles(smiles)\n",
    "    fingerprint = AllChem.GetMorganFingerprintAsBitVect(molecule, 3, nBits=1024)\n",
    "    numerized_fingerprint = [int(fingerprint[i]) for i in range(fingerprint.GetNumBits())]\n",
    "    nf = np.array(numerized_fingerprint)\n",
    "    Mfp_sol[i] = nf\n",
    "\n",
    "filtered_smi_sol = filtered_smi[~filtered_smi['Solvent'].isin(Unnecessary_solvents)]"
   ]
  },
  {
   "cell_type": "markdown",
   "metadata": {},
   "source": [
    "### Importing basic ML models from scikit-learn"
   ]
  },
  {
   "cell_type": "code",
   "execution_count": 8,
   "metadata": {},
   "outputs": [],
   "source": [
    "from sklearn.linear_model import LinearRegression\n",
    "import pickle\n",
    "from sklearn.linear_model import Ridge\n",
    "from sklearn.linear_model import Lasso\n",
    "from sklearn.ensemble import RandomForestRegressor\n",
    "from sklearn.neural_network import MLPRegressor\n",
    "from sklearn.model_selection import cross_val_score\n",
    "from numpy import genfromtxt\n",
    "from sklearn.linear_model import RidgeCV\n",
    "from sklearn.linear_model import LassoCV\n",
    "from sklearn.linear_model import ElasticNet\n",
    "from sklearn.metrics import accuracy_score\n",
    "from sklearn.model_selection import train_test_split"
   ]
  },
  {
   "cell_type": "markdown",
   "metadata": {},
   "source": [
    "### Data preprocessing: setting X, y as inputs"
   ]
  },
  {
   "cell_type": "code",
   "execution_count": 18,
   "metadata": {},
   "outputs": [
    {
     "name": "stdout",
     "output_type": "stream",
     "text": [
      "Total data points after pre-processing:  17275\n"
     ]
    }
   ],
   "source": [
    "feature = 'Absorption max (nm)'\n",
    "\n",
    "n_mfp = Mfp\n",
    "n_sol_mfp = Mfp_sol\n",
    "\n",
    "oled = pd.read_csv('./data/OLED_dataset_CSV.csv', encoding='windows-1252')\n",
    "oled = oled[oled.Solvent != 'gas']\n",
    "\n",
    "target_atom = ['Sn']\n",
    "\n",
    "Unnecessary_chromophores = []\n",
    "\n",
    "for i in oled['Chromophore']:\n",
    "    mol = Chem.MolFromSmiles(i)\n",
    "    atoms = [atom.GetSymbol() for atom in mol.GetAtoms()]\n",
    "    intersection = set(target_atom).intersection(atoms)\n",
    "    if len(intersection) != 0:\n",
    "        Unnecessary_chromophores.append(i)\n",
    "    else:\n",
    "        pass\n",
    "\n",
    "filtered_smi = oled[~oled['Chromophore'].isin(Unnecessary_chromophores)]\n",
    "\n",
    "Unnecessary_solvents = []\n",
    "\n",
    "for i in filtered_smi['Solvent']:\n",
    "    mol = Chem.MolFromSmiles(i)\n",
    "    atoms = [atom.GetSymbol() for atom in mol.GetAtoms()]\n",
    "    intersection = set(target_atom).intersection(atoms)\n",
    "    if len(intersection) != 0:\n",
    "        Unnecessary_solvents.append(i)\n",
    "    else:\n",
    "        pass\n",
    "\n",
    "filtered_smi_sol = filtered_smi[~filtered_smi['Solvent'].isin(Unnecessary_solvents)]\n",
    "\n",
    "\n",
    "oled_dropped = filtered_smi_sol.dropna(subset=feature, axis=0)\n",
    "print('Total data points after pre-processing: ', len(oled_dropped))\n",
    "\n",
    "chromophore = []\n",
    "\n",
    "#duplicates = count_duplicates(chromophore)\n",
    "#print(duplicates)\n",
    "\n",
    "solvent = []\n",
    "mw = []\n",
    "\n",
    "for i in oled_dropped['Chromophore']:\n",
    "    chromophore.append(n_mfp[i])\n",
    "                    \n",
    "for i in oled_dropped['Solvent']:\n",
    "    solvent.append(n_sol_mfp[i])\n",
    "\n",
    "for i in oled_dropped['Molecular weight (g mol-1)']:\n",
    "    mw.append(i)\n",
    "\n",
    "\n",
    "mw_reshaped = np.reshape(mw, (-1,1))\n",
    "\n",
    "\n",
    "oled_dropped_prop = oled_dropped[feature]\n",
    "oled_dropped_prop.to_csv('temp.csv', index=False, header=False)\n",
    "prop_np = genfromtxt('temp.csv', delimiter=',')\n",
    "prop_np_reshaped = np.reshape(prop_np, (-1,1))\n",
    "a = np.concatenate((chromophore, solvent), axis=1)\n",
    "b = np.concatenate((a, mw_reshaped), axis=1)\n",
    "\n",
    "X = b\n",
    "y = prop_np_reshaped"
   ]
  },
  {
   "cell_type": "code",
   "execution_count": 20,
   "metadata": {},
   "outputs": [
    {
     "data": {
      "text/plain": [
       "(17275, 1)"
      ]
     },
     "execution_count": 20,
     "metadata": {},
     "output_type": "execute_result"
    }
   ],
   "source": [
    "y.shape"
   ]
  },
  {
   "cell_type": "markdown",
   "metadata": {},
   "source": [
    "### Train test split"
   ]
  },
  {
   "cell_type": "code",
   "execution_count": 21,
   "metadata": {},
   "outputs": [],
   "source": [
    "X_train, X_test, y_train, y_test = train_test_split(X, y, test_size=0.1, random_state=42)"
   ]
  },
  {
   "cell_type": "markdown",
   "metadata": {},
   "source": [
    "### Basic linear regression model definition & Train and test example"
   ]
  },
  {
   "cell_type": "code",
   "execution_count": 22,
   "metadata": {},
   "outputs": [
    {
     "name": "stdout",
     "output_type": "stream",
     "text": [
      "R2 score:  -4815359645012936.0\n",
      "MAE:  919001893.7641113\n",
      "MSE:  5.285872100442415e+19\n"
     ]
    }
   ],
   "source": [
    "# linear regression\n",
    "lr = LinearRegression()\n",
    "lr.fit(X_train, y_train)\n",
    "\n",
    "# r2 score\n",
    "from sklearn.metrics import r2_score\n",
    "y_pred = lr.predict(X_test)\n",
    "r2_score = r2_score(y_test, y_pred)\n",
    "print('R2 score: ', r2_score)\n",
    "\n",
    "# MAE\n",
    "from sklearn.metrics import mean_absolute_error\n",
    "mae = mean_absolute_error(y_test, y_pred)\n",
    "print('MAE: ', mae)\n",
    "\n",
    "# MSE\n",
    "from sklearn.metrics import mean_squared_error\n",
    "mse = mean_squared_error(y_test, y_pred)\n",
    "print('MSE: ', mse)\n"
   ]
  },
  {
   "cell_type": "markdown",
   "metadata": {},
   "source": [
    "### Advanced models such as RidgeCV (prerequisite: what the cross validation is?)"
   ]
  },
  {
   "cell_type": "code",
   "execution_count": null,
   "metadata": {},
   "outputs": [],
   "source": [
    "rcv = RidgeCV(alphas=[1e-3, 1e-2, 1e-1, 1, 10, 100, 1000], cv=3).fit(X_train, y_train)\n",
    "rcv_scores = cross_val_score(rcv, X_train, y_train)\n",
    "\n",
    "print('RidgeCV train score =', round(rcv.score(X_train, y_train), 3))\n",
    "print('RidgeCV test score =', round(rcv.score(X_test, y_test), 3))\n",
    "print('RidgeCV cross validation score =', rcv_scores)\n",
    "print('RidgeCV best alpha =', rcv.alpha_, '\\n\\n')\n",
    "\n",
    "#save the rcv model\n",
    "with open('RidgeCV_RDS_ALL.pkl', 'wb') as f:\n",
    "    pickle.dump(rcv, f)\n",
    "\n",
    "\n",
    "lcv = LassoCV(alphas=[1e-3, 1e-2, 1e-1, 1, 10, 100, 1000], cv=3, random_state=42, max_iter=10000).fit(X_train, y_train)\n",
    "lcv_scores = cross_val_score(lcv, X_train, y_train)\n",
    "\n",
    "print('LassoCV train score =', round(lcv.score(X_train, y_train), 3))\n",
    "print('LassoCV test score =', round(lcv.score(X_test, y_test), 3))\n",
    "print('LassoCV cross validation score =', lcv_scores) \n",
    "print('LassoCV best alpha =', lcv.alpha_, '\\n\\n')"
   ]
  },
  {
   "cell_type": "markdown",
   "metadata": {},
   "source": [
    "### HW: try to build a random forest model!"
   ]
  },
  {
   "cell_type": "code",
   "execution_count": null,
   "metadata": {},
   "outputs": [],
   "source": [
    "# your code here"
   ]
  }
 ],
 "metadata": {
  "kernelspec": {
   "display_name": "Python 3",
   "language": "python",
   "name": "python3"
  },
  "language_info": {
   "codemirror_mode": {
    "name": "ipython",
    "version": 3
   },
   "file_extension": ".py",
   "mimetype": "text/x-python",
   "name": "python",
   "nbconvert_exporter": "python",
   "pygments_lexer": "ipython3",
   "version": "3.11.4"
  },
  "orig_nbformat": 4
 },
 "nbformat": 4,
 "nbformat_minor": 2
}
