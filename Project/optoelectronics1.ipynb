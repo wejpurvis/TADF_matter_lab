{
 "cells": [
  {
   "cell_type": "markdown",
   "metadata": {},
   "source": [
    "# TADF ML\n",
    "\n",
    "Notebook for prediction of molecular electronic properties in TADF candidates"
   ]
  },
  {
   "cell_type": "code",
   "execution_count": 3,
   "metadata": {},
   "outputs": [],
   "source": [
    "# Imports\n",
    "import os"
   ]
  },
  {
   "cell_type": "code",
   "execution_count": 41,
   "metadata": {},
   "outputs": [
    {
     "name": "stdout",
     "output_type": "stream",
     "text": [
      "0\tCOC1=CC=CC(=C1)CNC(=O)CSC2=NC3=CC=CC=C3N2C4=CC=CC=C4\t-5.715482456\t-0.78096718\t4.3709\t3.4974\n",
      "1\tCCC1=CC=C(C=C1)N2C(=O)CC(C2=O)N(CC3=CC=C(C=C3)OC)C(=O)/C=C/C(=O)O\t-6.090727662\t-2.218273328\t3.3935\t3.1322\n",
      "2\tCOC1=C(C=C2C(=C1)N=CN=C2N3C(=NC(=N3)C4=CC=CC=N4)N)OCC5=CC=CC=C5\t-5.776435992000001\t-1.7967687420000003\t3.3161\t2.862\n",
      "4\tCC1=C(C=C(C=C1)SC2=C3C=CN=CC3=C(C4=CC=CC=C42)C5=CC6=CC=CC=C6C=C5)C\t-5.4558857000000005\t-2.125754568\t2.8377\t1.7091\n",
      "5\tC1OC2=C(O1)C=C(C=C2)N=NC3=C(N4C5=CC=CC=C5N=C4S3)O\t-5.415612828\t-2.062352006\t2.5995\t1.6852\n",
      "6\tCC1=C(C=CC(=C1)/C(=C\\2/C(N(C(=O)C2=O)CCN(C)C)C3=CC=C(C=C3)O)/O)OCC4=CC=CC=C4\t-5.677930724\t-1.8514636560000002\t2.7747\t2.3619\n",
      "8\tC[C@H]1CCC2=CC=CC=C2N1C(=O)C3=CC=C(C=C3)OC(=O)C\t-5.709223834\t-1.1638315780000001\t3.9396\t3.2039\n",
      "9\tCC1=CC(=C(N1C2=CC=CC=N2)C)[C@@H]3[C@@H](NC(=S)N3CCCN4CCOCC4)C5=CC=CC=N5\t-5.187581296\t-1.093354052\t3.6299\t3.207\n",
      "10\tCC1(CC(=O)[C@@H](CO1)[C@@H](CC(=O)C2=CC=CC=C2)C3=CC=CC=C3)C\t-6.372637766\t-1.5306412500000002\t3.8147\t3.3179\n",
      "11\tCC[C@@H]([C@H](C[C@@H](O)OCC1=CC2=C(C(=C1)O)C(=O)C3=C(C2=O)C=CC=C3O)N)O\t-6.045556738\t-2.948083076\t2.5545\t2.211\n",
      "12\tCC1(CC2=C(O1)C(=CC=C2)OCCNC(=NC)N3CCN(CC3)C(=O)C4=CC=CO4)C\t-5.4450011400000005\t-0.6538899420000001\t4.2606\t3.2838\n",
      "13\tCC1=CC2=C(C=C1)NC(=C2)C(=O)N3CCN(CC3)CC4CCCCN4C\t-5.28173274\t-0.8819214740000001\t4.0424\t2.8922\n",
      "14\tCCCC1=CC=CN2C1=NC=C(C2=O)C3=NNN=N3\t-5.843920264\t-1.894729782\t3.569\t2.4869\n",
      "15\tCCN1CCN(CC1)C2=NC=NC(=C2N)NCCC3=CC=CC=C3\t-5.260779962\t-0.029932540000000004\t4.8567\t3.5002\n",
      "16\tC1C[C@H](N(C1)C(=O)O)C2=NC(=NO2)C3CNC3\t-5.9481399260000005\t-0.482186008\t4.7764\t4.2485\n",
      "17\tCN(CCC1CCCCO1)C2CCN(CC2)C3=CC=C(C=C3)NC(=O)C4CCCC4\t-5.015605248000001\t-0.018503752000000002\t5.2336\t3.2867\n",
      "18\tC1CCOC(C1)O[C@@H]2C[C@@H]([C@@H]([C@H]2C=C[C@H](C3=CC4=CC=CC=C4S3)OC5CCCCO5)C/C=C/CCCC(=O)O)O\t-5.60826954\t-0.6459986360000001\t4.9503\t3.0215\n",
      "19\tCCOC1=C(C=CC(=C1)C(=O)NC2=CC=CC=C2C3=CC=CC=C3)OCC4=CN=CC=C4\t-5.596296524\t-0.955392254\t4.1364\t3.1652\n",
      "20\tC=CCC1=CC=CC=C1OCCCCN2C3=CC=CC=C3N=C2CCCNC(=O)C4=CC=NC=C4\t-5.976711896\t-1.354311378\t4.3195\t3.4968\n",
      "22\tCCNC(=NCC1=C(N=CC=C1)N2CCC(CC2)C(=O)N)NCCC3=CC=CC=C3\t-5.6191541\t-0.485179262\t4.3711\t3.6351\n"
     ]
    }
   ],
   "source": [
    "f_100 = open(\"./data/TADF_100.txt\", \"r\")\n",
    "\n",
    "for i in range(20):\n",
    "    line = f_100.readline()\n",
    "    print(line.strip())\n",
    "\n",
    "\n",
    "f_100.close()"
   ]
  }
 ],
 "metadata": {
  "kernelspec": {
   "display_name": "base",
   "language": "python",
   "name": "python3"
  },
  "language_info": {
   "codemirror_mode": {
    "name": "ipython",
    "version": 3
   },
   "file_extension": ".py",
   "mimetype": "text/x-python",
   "name": "python",
   "nbconvert_exporter": "python",
   "pygments_lexer": "ipython3",
   "version": "3.10.9"
  },
  "orig_nbformat": 4
 },
 "nbformat": 4,
 "nbformat_minor": 2
}
