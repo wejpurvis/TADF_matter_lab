{
 "cells": [
  {
   "cell_type": "markdown",
   "metadata": {},
   "source": [
    "## ML-powered Predictions on OLED Molecules"
   ]
  },
  {
   "cell_type": "code",
   "execution_count": 13,
   "metadata": {},
   "outputs": [],
   "source": [
    "#Imports\n",
    "\n",
    "import pandas as pd\n",
    "\n",
    "from rdkit import Chem\n",
    "from rdkit.Chem import AllChem\n",
    "import numpy as np"
   ]
  },
  {
   "cell_type": "code",
   "execution_count": 4,
   "metadata": {},
   "outputs": [],
   "source": [
    "#Load data and remove unwanted chromophores\n",
    "smi = pd.read_csv('./data/OLED_dataset_CSV.csv', encoding='windows-1252') # load csv file (20236, 14)\n",
    "\n",
    "target_atom = ['Sn']\n",
    "Unnecessary_chromophores = []\n",
    "\n",
    "smi[\"Molecules\"] = smi[\"Chromophore\"].apply(lambda x: Chem.MolFromSmiles(x)) #Add column of Molecular objects\n",
    "\n",
    "for _, row in smi.iterrows():\n",
    "    atoms = {atom.GetSymbol() for atom in row[\"Molecules\"].GetAtoms()}\n",
    "    if set(target_atom).intersection(atoms):\n",
    "        Unnecessary_chromophores.append(row[\"Chromophore\"])\n",
    "\n",
    "\n",
    "filtered_smi = smi[~smi['Chromophore'].isin(Unnecessary_chromophores)]"
   ]
  },
  {
   "cell_type": "code",
   "execution_count": 5,
   "metadata": {},
   "outputs": [],
   "source": [
    "#Create dictionary of SMILES: Morgan fingerprint\n",
    "\n",
    "Mfp_Chrom = {}\n",
    "\n",
    "for _, row in filtered_smi.iterrows():\n",
    "    fp = AllChem.GetMorganFingerprintAsBitVect(row[\"Molecules\"], 3, nBits=1024)\n",
    "    nf = np.array(fp).tolist()\n",
    "    Mfp_Chrom[row[\"Chromophore\"]] = nf"
   ]
  },
  {
   "cell_type": "code",
   "execution_count": 6,
   "metadata": {},
   "outputs": [],
   "source": [
    "#Get Unique Solvents\n",
    "filtered_smi = filtered_smi[filtered_smi.Solvent != \"gas\"] #remove \"gas\" from solvents\n",
    "filtered_smi_sol = filtered_smi.drop_duplicates(subset=[\"Solvent\"]) #remove duplicates from solvents\n",
    "\n",
    "\n",
    "#Create dictionary of SMILES: Morgan fingerprint (solvents)\n",
    "\n",
    "Mfp_Sol = {}\n",
    "\n",
    "for _, row in filtered_smi_sol.iterrows():\n",
    "    mol = Chem.MolFromSmiles(row[\"Solvent\"])\n",
    "    fp = AllChem.GetMorganFingerprintAsBitVect(mol, 3, nBits=1024)\n",
    "    nf = np.array(fp).tolist()\n",
    "    Mfp_Sol[row[\"Solvent\"]] = nf\n"
   ]
  },
  {
   "cell_type": "markdown",
   "metadata": {},
   "source": [
    "Defining inputs from pre-processed data"
   ]
  },
  {
   "cell_type": "code",
   "execution_count": 7,
   "metadata": {},
   "outputs": [
    {
     "name": "stdout",
     "output_type": "stream",
     "text": [
      "Data points before preprocessing  20236\n",
      "Data points after preprocessing  17275\n"
     ]
    }
   ],
   "source": [
    "feature = smi.columns[3] #Absorption max (nm)\n",
    "\n",
    "oled_dropped = filtered_smi.dropna(subset=feature, axis=0) #(17275, 15) i.e. 17275 chromophores with reported abs\n",
    "\n",
    "print(\"Data points before preprocessing \", len(smi))\n",
    "print(\"Data points after preprocessing \", len(oled_dropped))\n",
    "\n",
    "#Building MF arrays of chromophores and solvents\n",
    "chromophore = [] #list of 17275 chromophore MFPs\n",
    "solvent = [] #17275 solvents\n",
    "mw = [] #17275 mws\n",
    "\n",
    "for _, row in oled_dropped.iterrows():\n",
    "    chromophore.append(Mfp_Chrom[row[\"Chromophore\"]])\n",
    "    solvent.append(Mfp_Sol[row[\"Solvent\"]])\n",
    "    mw.append(row[\"Molecular weight (g mol-1)\"])\n",
    "\n",
    "chromophore_reshaped = np.reshape(chromophore, (-1, 1024)) # (17275, 1024) matrix of chromophore MFP\n",
    "solvent_reshaped = np.reshape(solvent, (-1, 1024)) # (17275, 1024) matrix of solvent MFP\n",
    "mw_reshaped = np.reshape(mw, (-1,1)) # (17275, 1) matrix of molecular weights\n"
   ]
  },
  {
   "cell_type": "code",
   "execution_count": 9,
   "metadata": {},
   "outputs": [],
   "source": [
    "a = np.concatenate((chromophore_reshaped, solvent_reshaped), axis = 1) # (17275, 2048) matrix of chromophore & solvent MFPs\n",
    "b = np.concatenate((a, mw_reshaped), axis = 1) # (17275, 2049) matrix of MFPs & mws\n",
    "\n",
    "feature_reshaped = np.reshape(oled_dropped[feature], (-1,1)) # (17275, 1) vector of features (absorption)\n",
    "\n",
    "X = b\n",
    "Y = feature_reshaped"
   ]
  },
  {
   "cell_type": "code",
   "execution_count": 10,
   "metadata": {},
   "outputs": [],
   "source": [
    "#Save inputs & features to system\n",
    "np.savez_compressed(\"./data/oled_inp_feat.npz\", input = X, features = Y)"
   ]
  },
  {
   "cell_type": "markdown",
   "metadata": {},
   "source": [
    "#### Loading inputs & features for ML models"
   ]
  },
  {
   "cell_type": "code",
   "execution_count": 2,
   "metadata": {},
   "outputs": [],
   "source": [
    "import numpy as np\n",
    "loaded_data = np.load(\"./data/oled_inp_feat.npz\")\n",
    "X = loaded_data[\"input\"]\n",
    "Y = loaded_data[\"features\"]"
   ]
  },
  {
   "cell_type": "markdown",
   "metadata": {},
   "source": [
    "### Machine Learning models"
   ]
  },
  {
   "cell_type": "code",
   "execution_count": 3,
   "metadata": {},
   "outputs": [],
   "source": [
    "import sklearn\n",
    "from sklearn.preprocessing import StandardScaler, PowerTransformer\n",
    "from sklearn.model_selection import train_test_split\n",
    "\n",
    "#Split data into training & test sets\n",
    "X_train, X_test, y_train, y_test = train_test_split(X, Y, test_size=0.1, random_state=42)\n",
    "\n",
    "#Evaluate models\n",
    "def model_eval(y_test, y_pred, print_res=True):\n",
    "    # R2 Score\n",
    "    r2_score = sklearn.metrics.r2_score(y_test, y_pred)\n",
    "    # MAE\n",
    "    mae = sklearn.metrics.mean_absolute_error(y_test, y_pred)\n",
    "    # MSE\n",
    "    mse = sklearn.metrics.mean_squared_error(y_test, y_pred)\n",
    "\n",
    "    if print_res:\n",
    "        print('R2 score: ', r2_score)\n",
    "        print('MAE: ', mae)\n",
    "        print('MSE: ', mse)\n",
    "\n",
    "    else:\n",
    "        return r2_score, mae, mse\n",
    "\n",
    "\n",
    "#Standardise mw data only after split to avoid data leakage\n",
    "scaler_X = StandardScaler().fit(np.array([X_train[:,-1]]).T) #fit scaler to training mws\n",
    "\n",
    "X_mw_train_standardized = scaler_X.transform(np.array([X_train[:,-1]]).T) #standardize to training mw\n",
    "X_train_standardized = np.concatenate((X_train[:, :-1], X_mw_train_standardized), axis=1) #add standardized training mw to training MFPs\n",
    "\n",
    "X_mw_test_standardized = scaler_X.transform(np.array([X_test[:,-1]]).T) #standardize test mw\n",
    "X_test_standardized = np.concatenate((X_test[:, :-1], X_mw_test_standardized), axis=1) #add standardized test mw to testing MFPs\n",
    "\n",
    "pt = PowerTransformer(method = \"box-cox\", standardize = True).fit(y_train)\n",
    "y_train_transformed = pt.transform(y_train)\n",
    "y_test_transformed = pt.transform(y_test)"
   ]
  },
  {
   "cell_type": "code",
   "execution_count": 9,
   "metadata": {},
   "outputs": [
    {
     "name": "stdout",
     "output_type": "stream",
     "text": [
      "X_train mean: 0.257, std: 11.474\n",
      "X_test mean: 0.261, std: 11.780\n",
      "\n",
      "X_train_standardized mean: 0.031, std: 0.176\n",
      "X_test_standardized mean: 0.032, std: 0.176\n",
      "\n",
      "\n",
      "y_train mean: 427.740, std: 105.885\n",
      "y_test mean: 428.271, std: 104.772\n",
      "\n",
      "y_train_transformed mean: -0.000, std: 1.000\n",
      "y_test_transformed mean: 0.006, std: 1.009\n"
     ]
    }
   ],
   "source": [
    "print(f\"X_train mean: {X_train.mean():.3f}, std: {X_train.std():.3f}\")\n",
    "print(f\"X_test mean: {X_test.mean():.3f}, std: {X_test.std():.3f}\")\n",
    "print()\n",
    "print(f\"X_train_standardized mean: {X_train_standardized.mean():.3f}, std: {X_train_standardized.std():.3f}\")\n",
    "print(f\"X_test_standardized mean: {X_test_standardized.mean():.3f}, std: {X_test_standardized.std():.3f}\")\n",
    "print()\n",
    "print()\n",
    "print(f\"y_train mean: {y_train.mean():.3f}, std: {y_train.std():.3f}\")\n",
    "print(f\"y_test mean: {y_test.mean():.3f}, std: {y_test.std():.3f}\")\n",
    "print()\n",
    "print(f\"y_train_transformed mean: {y_train_transformed.mean():.3f}, std: {y_train_transformed.std():.3f}\")\n",
    "print(f\"y_test_transformed mean: {y_test_transformed.mean():.3f}, std: {y_test_transformed.std():.3f}\")"
   ]
  },
  {
   "cell_type": "code",
   "execution_count": 10,
   "metadata": {},
   "outputs": [
    {
     "name": "stdout",
     "output_type": "stream",
     "text": [
      "R2 score:  -4815359645012936.0\n",
      "MAE:  919001893.7641113\n",
      "MSE:  5.285872100442415e+19\n"
     ]
    }
   ],
   "source": [
    "from sklearn.linear_model import LinearRegression\n",
    "lr = LinearRegression()\n",
    "lr.fit(X_train, y_train)\n",
    "\n",
    "y_pred = lr.predict(X_test)\n",
    "model_eval(y_test, y_pred)"
   ]
  },
  {
   "cell_type": "code",
   "execution_count": 11,
   "metadata": {},
   "outputs": [
    {
     "name": "stdout",
     "output_type": "stream",
     "text": [
      "R2 score:  -1.34566191784757e+18\n",
      "MAE:  133884741.5608435\n",
      "MSE:  1.3702241311246838e+18\n"
     ]
    }
   ],
   "source": [
    "lr.fit(X_train_standardized, y_train_transformed)\n",
    "y_pred = lr.predict(X_test_standardized)\n",
    "model_eval(y_test_transformed, y_pred)"
   ]
  },
  {
   "cell_type": "markdown",
   "metadata": {},
   "source": [
    "## Ridge"
   ]
  },
  {
   "cell_type": "code",
   "execution_count": 34,
   "metadata": {},
   "outputs": [
    {
     "name": "stdout",
     "output_type": "stream",
     "text": [
      "R2 score:  0.8040386045554192\n",
      "MAE:  0.32505810257764217\n",
      "MSE:  0.19953825641177644\n"
     ]
    }
   ],
   "source": [
    "#Ridge Model\n",
    "from sklearn.linear_model import Ridge\n",
    "\n",
    "alpha = 12.9 #Regularization strength\n",
    "ridge_model = Ridge(alpha=alpha)\n",
    "ridge_model.fit(X_train_standardized, y_train_transformed)\n",
    "\n",
    "y_pred_ridge = ridge_model.predict(X_test_standardized)\n",
    "\n",
    "model_eval(y_test_transformed, y_pred_ridge)"
   ]
  },
  {
   "cell_type": "code",
   "execution_count": 35,
   "metadata": {},
   "outputs": [
    {
     "name": "stdout",
     "output_type": "stream",
     "text": [
      "R2 score:  0.8324204285064964\n",
      "MAE:  30.62914844941725\n",
      "MSE:  1839.5389895311253\n"
     ]
    }
   ],
   "source": [
    "#Ridge without standardisation & transformation\n",
    "ridge2 = Ridge(alpha=alpha)\n",
    "ridge2.fit(X_train, y_train)\n",
    "\n",
    "y_pred_r2 = ridge2.predict(X_test)\n",
    "\n",
    "model_eval(y_test, y_pred_r2)"
   ]
  },
  {
   "cell_type": "code",
   "execution_count": 15,
   "metadata": {},
   "outputs": [
    {
     "data": {
      "image/png": "[encoded data removed]",
      "text/plain": [
       "<Figure size 600x600 with 1 Axes>"
      ]
     },
     "metadata": {},
     "output_type": "display_data"
    }
   ],
   "source": [
    "#Plot of RR results\n",
    "\n",
    "import matplotlib.pyplot as plt\n",
    "\n",
    "#Limits of plot with offset\n",
    "offset = 1\n",
    "min_limit = min(min(y_test_transformed), min(y_pred_ridge)) - offset\n",
    "max_limit = max(max(y_test_transformed), max(y_pred_ridge)) + offset\n",
    "\n",
    "plt.figure(figsize=(6, 6))\n",
    "\n",
    "plt.scatter(y_test_transformed, y_pred_ridge, color='blue', marker = 'x') # Data\n",
    "\n",
    "plt.plot([min_limit, max_limit], [min_limit, max_limit], color='black')  # Diagonal line\n",
    "\n",
    "\n",
    "plt.xlim(min_limit, max_limit)  # Set x-axis limits\n",
    "plt.ylim(min_limit, max_limit)  # Set y-axis limits\n",
    "\n",
    "plt.title('Ridge regression')\n",
    "plt.xlabel('Actual Absorption max')\n",
    "plt.ylabel('Predicted Absorption max')\n",
    "plt.text(min_limit+offset, max_limit-offset, f\" R2 score: {model_eval(y_test_transformed, y_pred_ridge,print_res=False)[0]:.2f}\\n MAE: {model_eval(y_test_transformed, y_pred_ridge,print_res=False)[1]:.2f}\")\n",
    "plt.show()"
   ]
  },
  {
   "cell_type": "code",
   "execution_count": 16,
   "metadata": {},
   "outputs": [
    {
     "name": "stdout",
     "output_type": "stream",
     "text": [
      "Ridge: 0.7852906770704655\n",
      "Lasso: -0.00044347511303639565\n"
     ]
    }
   ],
   "source": [
    "from sklearn.model_selection import cross_val_score\n",
    "from sklearn.linear_model import Ridge, Lasso\n",
    "import matplotlib.pyplot as plt\n",
    "\n",
    "for Model in [Ridge, Lasso]:\n",
    "    model = Model()\n",
    "    print('%s: %s' % (Model.__name__, cross_val_score(model, X_train_standardized, y_train_transformed).mean()))"
   ]
  },
  {
   "cell_type": "code",
   "execution_count": 30,
   "metadata": {},
   "outputs": [
    {
     "name": "stdout",
     "output_type": "stream",
     "text": [
      "R2 score:  0.8040377477087757\n",
      "MAE:  0.3250572125307233\n",
      "MSE:  0.19953912889834388\n"
     ]
    }
   ],
   "source": [
    "# Ridge cross validation\n",
    "from sklearn.linear_model import RidgeCV\n",
    "\n",
    "r_alphas = np.logspace(0, 5, 10)\n",
    "rcv = RidgeCV(alphas=r_alphas, cv=3)\n",
    "rcv.fit(X_train_standardized, y_train_transformed)\n",
    "\n",
    "y_pred_ridgeCV = rcv.predict(X_test_standardized)\n",
    "model_eval(y_test_transformed, y_pred_ridgeCV)"
   ]
  },
  {
   "cell_type": "code",
   "execution_count": 36,
   "metadata": {},
   "outputs": [
    {
     "name": "stdout",
     "output_type": "stream",
     "text": [
      "R2 score:  0.8324214569362963\n",
      "MAE:  30.62893303133254\n",
      "MSE:  1839.5277003465426\n"
     ]
    }
   ],
   "source": [
    "#Without standardization\n",
    "rcv2 = RidgeCV(alphas=r_alphas, cv=3)\n",
    "rcv2.fit(X_train, y_train)\n",
    "\n",
    "y_pred_ridgeCV2 = rcv2.predict(X_test)\n",
    "model_eval(y_test, y_pred_ridgeCV2)"
   ]
  },
  {
   "cell_type": "code",
   "execution_count": 37,
   "metadata": {},
   "outputs": [
    {
     "name": "stdout",
     "output_type": "stream",
     "text": [
      "RidgeCV best alpha = 12.91549665014884 \n",
      "\n",
      "\n"
     ]
    }
   ],
   "source": [
    "print('RidgeCV best alpha =', rcv.alpha_, '\\n\\n')"
   ]
  },
  {
   "cell_type": "markdown",
   "metadata": {},
   "source": [
    "## Lasso"
   ]
  },
  {
   "cell_type": "code",
   "execution_count": 5,
   "metadata": {},
   "outputs": [
    {
     "name": "stdout",
     "output_type": "stream",
     "text": [
      "R2 score:  0.7781750253979922\n",
      "MAE:  0.34487851186365476\n",
      "MSE:  0.22587392052527502\n"
     ]
    }
   ],
   "source": [
    "#Lasso With standardization\n",
    "from sklearn.linear_model import Lasso\n",
    "\n",
    "lasso_model = Lasso(alpha=0.001)\n",
    "lasso_model.fit(X_train_standardized, y_train_transformed)\n",
    "y_lasso_pred = lasso_model.predict(X_test_standardized)\n",
    "\n",
    "model_eval(y_test_transformed, y_lasso_pred)"
   ]
  },
  {
   "cell_type": "code",
   "execution_count": 4,
   "metadata": {},
   "outputs": [
    {
     "data": {
      "text/plain": [
       "116"
      ]
     },
     "execution_count": 4,
     "metadata": {},
     "output_type": "execute_result"
    }
   ],
   "source": [
    "lasso_model.n_iter_"
   ]
  },
  {
   "cell_type": "code",
   "execution_count": 7,
   "metadata": {},
   "outputs": [
    {
     "name": "stdout",
     "output_type": "stream",
     "text": [
      "R2 score:  0.8266899878151224\n",
      "MAE:  31.102683164800194\n",
      "MSE:  1902.4426536533772\n"
     ]
    },
    {
     "name": "stderr",
     "output_type": "stream",
     "text": [
      "c:\\Users\\William Purvis\\AppData\\Local\\Programs\\Python\\Python311\\Lib\\site-packages\\sklearn\\linear_model\\_coordinate_descent.py:631: ConvergenceWarning: Objective did not converge. You might want to increase the number of iterations, check the scale of the features or consider increasing regularisation. Duality gap: 9.159e+06, tolerance: 1.743e+04\n",
      "  model = cd_fast.enet_coordinate_descent(\n"
     ]
    }
   ],
   "source": [
    "#Lasso without standardization\n",
    "lasso_model2 = Lasso(alpha=0.001, max_iter = 200)\n",
    "lasso_model2.fit(X_train, y_train)\n",
    "y_lasso_pred2 = lasso_model2.predict(X_test)\n",
    "\n",
    "model_eval(y_test, y_lasso_pred2)"
   ]
  },
  {
   "cell_type": "code",
   "execution_count": 11,
   "metadata": {},
   "outputs": [
    {
     "name": "stdout",
     "output_type": "stream",
     "text": [
      "R2 score:  0.8054461962319317\n",
      "MAE:  0.3247040424641153\n",
      "MSE:  0.19810497212517592\n"
     ]
    }
   ],
   "source": [
    "#LassoCV with standardization\n",
    "from sklearn.linear_model import LassoCV\n",
    "\n",
    "y_train_transformed = y_train_transformed.ravel()\n",
    "\n",
    "lcv = LassoCV(alphas= np.logspace(-5, -2, 10), cv=3, random_state=42, max_iter=10000)\n",
    "lcv.fit(X_train_standardized, y_train_transformed)\n",
    "\n",
    "y_lassoCV = lcv.predict(X_test_standardized)\n",
    "model_eval(y_test_transformed, y_lassoCV)"
   ]
  },
  {
   "cell_type": "code",
   "execution_count": 13,
   "metadata": {},
   "outputs": [
    {
     "name": "stdout",
     "output_type": "stream",
     "text": [
      "LassoCV best alpha = 0.00021544346900318823 \n",
      "\n",
      "\n"
     ]
    }
   ],
   "source": [
    "print('LassoCV best alpha =', lcv.alpha_, '\\n\\n')"
   ]
  },
  {
   "cell_type": "code",
   "execution_count": 5,
   "metadata": {},
   "outputs": [
    {
     "name": "stderr",
     "output_type": "stream",
     "text": [
      "c:\\Users\\William Purvis\\AppData\\Local\\Programs\\Python\\Python311\\Lib\\site-packages\\sklearn\\linear_model\\_coordinate_descent.py:617: ConvergenceWarning: Objective did not converge. You might want to increase the number of iterations. Duality gap: 16314.138461748138, tolerance: 11966.638247137038\n",
      "  model = cd_fast.enet_coordinate_descent_gram(\n",
      "c:\\Users\\William Purvis\\AppData\\Local\\Programs\\Python\\Python311\\Lib\\site-packages\\sklearn\\linear_model\\_coordinate_descent.py:617: ConvergenceWarning: Objective did not converge. You might want to increase the number of iterations. Duality gap: 44882.90046411753, tolerance: 11966.638247137038\n",
      "  model = cd_fast.enet_coordinate_descent_gram(\n",
      "c:\\Users\\William Purvis\\AppData\\Local\\Programs\\Python\\Python311\\Lib\\site-packages\\sklearn\\linear_model\\_coordinate_descent.py:617: ConvergenceWarning: Objective did not converge. You might want to increase the number of iterations. Duality gap: 204515.7168984227, tolerance: 11966.638247137038\n",
      "  model = cd_fast.enet_coordinate_descent_gram(\n",
      "c:\\Users\\William Purvis\\AppData\\Local\\Programs\\Python\\Python311\\Lib\\site-packages\\sklearn\\linear_model\\_coordinate_descent.py:617: ConvergenceWarning: Objective did not converge. You might want to increase the number of iterations. Duality gap: 683009.9864276424, tolerance: 11966.638247137038\n",
      "  model = cd_fast.enet_coordinate_descent_gram(\n",
      "c:\\Users\\William Purvis\\AppData\\Local\\Programs\\Python\\Python311\\Lib\\site-packages\\sklearn\\linear_model\\_coordinate_descent.py:617: ConvergenceWarning: Objective did not converge. You might want to increase the number of iterations. Duality gap: 792325.0120024197, tolerance: 11966.638247137038\n",
      "  model = cd_fast.enet_coordinate_descent_gram(\n",
      "c:\\Users\\William Purvis\\AppData\\Local\\Programs\\Python\\Python311\\Lib\\site-packages\\sklearn\\linear_model\\_coordinate_descent.py:617: ConvergenceWarning: Objective did not converge. You might want to increase the number of iterations. Duality gap: 839879.2319838163, tolerance: 11966.638247137038\n",
      "  model = cd_fast.enet_coordinate_descent_gram(\n",
      "c:\\Users\\William Purvis\\AppData\\Local\\Programs\\Python\\Python311\\Lib\\site-packages\\sklearn\\linear_model\\_coordinate_descent.py:617: ConvergenceWarning: Objective did not converge. You might want to increase the number of iterations. Duality gap: 136270.41005759686, tolerance: 11481.262843995477\n",
      "  model = cd_fast.enet_coordinate_descent_gram(\n",
      "c:\\Users\\William Purvis\\AppData\\Local\\Programs\\Python\\Python311\\Lib\\site-packages\\sklearn\\linear_model\\_coordinate_descent.py:617: ConvergenceWarning: Objective did not converge. You might want to increase the number of iterations. Duality gap: 273053.6857321635, tolerance: 11481.262843995477\n",
      "  model = cd_fast.enet_coordinate_descent_gram(\n",
      "c:\\Users\\William Purvis\\AppData\\Local\\Programs\\Python\\Python311\\Lib\\site-packages\\sklearn\\linear_model\\_coordinate_descent.py:617: ConvergenceWarning: Objective did not converge. You might want to increase the number of iterations. Duality gap: 517709.84934401885, tolerance: 11481.262843995477\n",
      "  model = cd_fast.enet_coordinate_descent_gram(\n",
      "c:\\Users\\William Purvis\\AppData\\Local\\Programs\\Python\\Python311\\Lib\\site-packages\\sklearn\\linear_model\\_coordinate_descent.py:617: ConvergenceWarning: Objective did not converge. You might want to increase the number of iterations. Duality gap: 595917.4941679873, tolerance: 11481.262843995477\n",
      "  model = cd_fast.enet_coordinate_descent_gram(\n",
      "c:\\Users\\William Purvis\\AppData\\Local\\Programs\\Python\\Python311\\Lib\\site-packages\\sklearn\\linear_model\\_coordinate_descent.py:617: ConvergenceWarning: Objective did not converge. You might want to increase the number of iterations. Duality gap: 791263.4944619592, tolerance: 11481.262843995477\n",
      "  model = cd_fast.enet_coordinate_descent_gram(\n",
      "c:\\Users\\William Purvis\\AppData\\Local\\Programs\\Python\\Python311\\Lib\\site-packages\\sklearn\\linear_model\\_coordinate_descent.py:617: ConvergenceWarning: Objective did not converge. You might want to increase the number of iterations. Duality gap: 728016.8547929693, tolerance: 11481.262843995477\n",
      "  model = cd_fast.enet_coordinate_descent_gram(\n",
      "c:\\Users\\William Purvis\\AppData\\Local\\Programs\\Python\\Python311\\Lib\\site-packages\\sklearn\\linear_model\\_coordinate_descent.py:617: ConvergenceWarning: Objective did not converge. You might want to increase the number of iterations. Duality gap: 13653.506722081453, tolerance: 11411.027544955572\n",
      "  model = cd_fast.enet_coordinate_descent_gram(\n"
     ]
    },
    {
     "ename": "KeyboardInterrupt",
     "evalue": "",
     "output_type": "error",
     "traceback": [
      "\u001b[1;31m---------------------------------------------------------------------------\u001b[0m",
      "\u001b[1;31mKeyboardInterrupt\u001b[0m                         Traceback (most recent call last)",
      "Cell \u001b[1;32mIn[5], line 4\u001b[0m\n\u001b[0;32m      1\u001b[0m y_train \u001b[39m=\u001b[39m y_train\u001b[39m.\u001b[39mravel()\n\u001b[0;32m      3\u001b[0m lcv2 \u001b[39m=\u001b[39m LassoCV(alphas\u001b[39m=\u001b[39m np\u001b[39m.\u001b[39mlogspace(\u001b[39m-\u001b[39m\u001b[39m5\u001b[39m, \u001b[39m-\u001b[39m\u001b[39m2\u001b[39m, \u001b[39m10\u001b[39m), cv\u001b[39m=\u001b[39m\u001b[39m3\u001b[39m, random_state\u001b[39m=\u001b[39m\u001b[39m42\u001b[39m, max_iter\u001b[39m=\u001b[39m\u001b[39m10000\u001b[39m)\n\u001b[1;32m----> 4\u001b[0m lcv2\u001b[39m.\u001b[39;49mfit(X_train, y_train)\n\u001b[0;32m      6\u001b[0m y_lassoCV2 \u001b[39m=\u001b[39m lcv2\u001b[39m.\u001b[39mpredict(X_test)\n\u001b[0;32m      7\u001b[0m model_eval(y_test, y_lassoCV2)\n",
      "File \u001b[1;32mc:\\Users\\William Purvis\\AppData\\Local\\Programs\\Python\\Python311\\Lib\\site-packages\\sklearn\\linear_model\\_coordinate_descent.py:1668\u001b[0m, in \u001b[0;36mLinearModelCV.fit\u001b[1;34m(self, X, y, sample_weight)\u001b[0m\n\u001b[0;32m   1648\u001b[0m \u001b[39m# We do a double for loop folded in one, in order to be able to\u001b[39;00m\n\u001b[0;32m   1649\u001b[0m \u001b[39m# iterate in parallel on l1_ratio and folds\u001b[39;00m\n\u001b[0;32m   1650\u001b[0m jobs \u001b[39m=\u001b[39m (\n\u001b[0;32m   1651\u001b[0m     delayed(_path_residuals)(\n\u001b[0;32m   1652\u001b[0m         X,\n\u001b[1;32m   (...)\u001b[0m\n\u001b[0;32m   1666\u001b[0m     \u001b[39mfor\u001b[39;00m train, test \u001b[39min\u001b[39;00m folds\n\u001b[0;32m   1667\u001b[0m )\n\u001b[1;32m-> 1668\u001b[0m mse_paths \u001b[39m=\u001b[39m Parallel(\n\u001b[0;32m   1669\u001b[0m     n_jobs\u001b[39m=\u001b[39;49m\u001b[39mself\u001b[39;49m\u001b[39m.\u001b[39;49mn_jobs,\n\u001b[0;32m   1670\u001b[0m     verbose\u001b[39m=\u001b[39;49m\u001b[39mself\u001b[39;49m\u001b[39m.\u001b[39;49mverbose,\n\u001b[0;32m   1671\u001b[0m     prefer\u001b[39m=\u001b[39;49m\u001b[39m\"\u001b[39;49m\u001b[39mthreads\u001b[39;49m\u001b[39m\"\u001b[39;49m,\n\u001b[0;32m   1672\u001b[0m )(jobs)\n\u001b[0;32m   1673\u001b[0m mse_paths \u001b[39m=\u001b[39m np\u001b[39m.\u001b[39mreshape(mse_paths, (n_l1_ratio, \u001b[39mlen\u001b[39m(folds), \u001b[39m-\u001b[39m\u001b[39m1\u001b[39m))\n\u001b[0;32m   1674\u001b[0m \u001b[39m# The mean is computed over folds.\u001b[39;00m\n",
      "File \u001b[1;32mc:\\Users\\William Purvis\\AppData\\Local\\Programs\\Python\\Python311\\Lib\\site-packages\\sklearn\\utils\\parallel.py:63\u001b[0m, in \u001b[0;36mParallel.__call__\u001b[1;34m(self, iterable)\u001b[0m\n\u001b[0;32m     58\u001b[0m config \u001b[39m=\u001b[39m get_config()\n\u001b[0;32m     59\u001b[0m iterable_with_config \u001b[39m=\u001b[39m (\n\u001b[0;32m     60\u001b[0m     (_with_config(delayed_func, config), args, kwargs)\n\u001b[0;32m     61\u001b[0m     \u001b[39mfor\u001b[39;00m delayed_func, args, kwargs \u001b[39min\u001b[39;00m iterable\n\u001b[0;32m     62\u001b[0m )\n\u001b[1;32m---> 63\u001b[0m \u001b[39mreturn\u001b[39;00m \u001b[39msuper\u001b[39;49m()\u001b[39m.\u001b[39;49m\u001b[39m__call__\u001b[39;49m(iterable_with_config)\n",
      "File \u001b[1;32mc:\\Users\\William Purvis\\AppData\\Local\\Programs\\Python\\Python311\\Lib\\site-packages\\joblib\\parallel.py:1855\u001b[0m, in \u001b[0;36mParallel.__call__\u001b[1;34m(self, iterable)\u001b[0m\n\u001b[0;32m   1853\u001b[0m     output \u001b[39m=\u001b[39m \u001b[39mself\u001b[39m\u001b[39m.\u001b[39m_get_sequential_output(iterable)\n\u001b[0;32m   1854\u001b[0m     \u001b[39mnext\u001b[39m(output)\n\u001b[1;32m-> 1855\u001b[0m     \u001b[39mreturn\u001b[39;00m output \u001b[39mif\u001b[39;00m \u001b[39mself\u001b[39m\u001b[39m.\u001b[39mreturn_generator \u001b[39melse\u001b[39;00m \u001b[39mlist\u001b[39;49m(output)\n\u001b[0;32m   1857\u001b[0m \u001b[39m# Let's create an ID that uniquely identifies the current call. If the\u001b[39;00m\n\u001b[0;32m   1858\u001b[0m \u001b[39m# call is interrupted early and that the same instance is immediately\u001b[39;00m\n\u001b[0;32m   1859\u001b[0m \u001b[39m# re-used, this id will be used to prevent workers that were\u001b[39;00m\n\u001b[0;32m   1860\u001b[0m \u001b[39m# concurrently finalizing a task from the previous call to run the\u001b[39;00m\n\u001b[0;32m   1861\u001b[0m \u001b[39m# callback.\u001b[39;00m\n\u001b[0;32m   1862\u001b[0m \u001b[39mwith\u001b[39;00m \u001b[39mself\u001b[39m\u001b[39m.\u001b[39m_lock:\n",
      "File \u001b[1;32mc:\\Users\\William Purvis\\AppData\\Local\\Programs\\Python\\Python311\\Lib\\site-packages\\joblib\\parallel.py:1784\u001b[0m, in \u001b[0;36mParallel._get_sequential_output\u001b[1;34m(self, iterable)\u001b[0m\n\u001b[0;32m   1782\u001b[0m \u001b[39mself\u001b[39m\u001b[39m.\u001b[39mn_dispatched_batches \u001b[39m+\u001b[39m\u001b[39m=\u001b[39m \u001b[39m1\u001b[39m\n\u001b[0;32m   1783\u001b[0m \u001b[39mself\u001b[39m\u001b[39m.\u001b[39mn_dispatched_tasks \u001b[39m+\u001b[39m\u001b[39m=\u001b[39m \u001b[39m1\u001b[39m\n\u001b[1;32m-> 1784\u001b[0m res \u001b[39m=\u001b[39m func(\u001b[39m*\u001b[39;49margs, \u001b[39m*\u001b[39;49m\u001b[39m*\u001b[39;49mkwargs)\n\u001b[0;32m   1785\u001b[0m \u001b[39mself\u001b[39m\u001b[39m.\u001b[39mn_completed_tasks \u001b[39m+\u001b[39m\u001b[39m=\u001b[39m \u001b[39m1\u001b[39m\n\u001b[0;32m   1786\u001b[0m \u001b[39mself\u001b[39m\u001b[39m.\u001b[39mprint_progress()\n",
      "File \u001b[1;32mc:\\Users\\William Purvis\\AppData\\Local\\Programs\\Python\\Python311\\Lib\\site-packages\\sklearn\\utils\\parallel.py:123\u001b[0m, in \u001b[0;36m_FuncWrapper.__call__\u001b[1;34m(self, *args, **kwargs)\u001b[0m\n\u001b[0;32m    121\u001b[0m     config \u001b[39m=\u001b[39m {}\n\u001b[0;32m    122\u001b[0m \u001b[39mwith\u001b[39;00m config_context(\u001b[39m*\u001b[39m\u001b[39m*\u001b[39mconfig):\n\u001b[1;32m--> 123\u001b[0m     \u001b[39mreturn\u001b[39;00m \u001b[39mself\u001b[39;49m\u001b[39m.\u001b[39;49mfunction(\u001b[39m*\u001b[39;49margs, \u001b[39m*\u001b[39;49m\u001b[39m*\u001b[39;49mkwargs)\n",
      "File \u001b[1;32mc:\\Users\\William Purvis\\AppData\\Local\\Programs\\Python\\Python311\\Lib\\site-packages\\sklearn\\linear_model\\_coordinate_descent.py:1392\u001b[0m, in \u001b[0;36m_path_residuals\u001b[1;34m(X, y, sample_weight, train, test, fit_intercept, path, path_params, alphas, l1_ratio, X_order, dtype)\u001b[0m\n\u001b[0;32m   1389\u001b[0m \u001b[39m# Do the ordering and type casting here, as if it is done in the path,\u001b[39;00m\n\u001b[0;32m   1390\u001b[0m \u001b[39m# X is copied and a reference is kept here\u001b[39;00m\n\u001b[0;32m   1391\u001b[0m X_train \u001b[39m=\u001b[39m check_array(X_train, accept_sparse\u001b[39m=\u001b[39m\u001b[39m\"\u001b[39m\u001b[39mcsc\u001b[39m\u001b[39m\"\u001b[39m, dtype\u001b[39m=\u001b[39mdtype, order\u001b[39m=\u001b[39mX_order)\n\u001b[1;32m-> 1392\u001b[0m alphas, coefs, _ \u001b[39m=\u001b[39m path(X_train, y_train, \u001b[39m*\u001b[39;49m\u001b[39m*\u001b[39;49mpath_params)\n\u001b[0;32m   1393\u001b[0m \u001b[39mdel\u001b[39;00m X_train, y_train\n\u001b[0;32m   1395\u001b[0m \u001b[39mif\u001b[39;00m y\u001b[39m.\u001b[39mndim \u001b[39m==\u001b[39m \u001b[39m1\u001b[39m:\n\u001b[0;32m   1396\u001b[0m     \u001b[39m# Doing this so that it becomes coherent with multioutput.\u001b[39;00m\n",
      "File \u001b[1;32mc:\\Users\\William Purvis\\AppData\\Local\\Programs\\Python\\Python311\\Lib\\site-packages\\sklearn\\linear_model\\_coordinate_descent.py:332\u001b[0m, in \u001b[0;36mlasso_path\u001b[1;34m(X, y, eps, n_alphas, alphas, precompute, Xy, copy_X, coef_init, verbose, return_n_iter, positive, **params)\u001b[0m\n\u001b[0;32m    176\u001b[0m \u001b[39mdef\u001b[39;00m \u001b[39mlasso_path\u001b[39m(\n\u001b[0;32m    177\u001b[0m     X,\n\u001b[0;32m    178\u001b[0m     y,\n\u001b[1;32m   (...)\u001b[0m\n\u001b[0;32m    190\u001b[0m     \u001b[39m*\u001b[39m\u001b[39m*\u001b[39mparams,\n\u001b[0;32m    191\u001b[0m ):\n\u001b[0;32m    192\u001b[0m \u001b[39m    \u001b[39m\u001b[39m\"\"\"Compute Lasso path with coordinate descent.\u001b[39;00m\n\u001b[0;32m    193\u001b[0m \n\u001b[0;32m    194\u001b[0m \u001b[39m    The Lasso optimization function varies for mono and multi-outputs.\u001b[39;00m\n\u001b[1;32m   (...)\u001b[0m\n\u001b[0;32m    330\u001b[0m \u001b[39m     [0.2159048  0.4425765  0.23668876]]\u001b[39;00m\n\u001b[0;32m    331\u001b[0m \u001b[39m    \"\"\"\u001b[39;00m\n\u001b[1;32m--> 332\u001b[0m     \u001b[39mreturn\u001b[39;00m enet_path(\n\u001b[0;32m    333\u001b[0m         X,\n\u001b[0;32m    334\u001b[0m         y,\n\u001b[0;32m    335\u001b[0m         l1_ratio\u001b[39m=\u001b[39;49m\u001b[39m1.0\u001b[39;49m,\n\u001b[0;32m    336\u001b[0m         eps\u001b[39m=\u001b[39;49meps,\n\u001b[0;32m    337\u001b[0m         n_alphas\u001b[39m=\u001b[39;49mn_alphas,\n\u001b[0;32m    338\u001b[0m         alphas\u001b[39m=\u001b[39;49malphas,\n\u001b[0;32m    339\u001b[0m         precompute\u001b[39m=\u001b[39;49mprecompute,\n\u001b[0;32m    340\u001b[0m         Xy\u001b[39m=\u001b[39;49mXy,\n\u001b[0;32m    341\u001b[0m         copy_X\u001b[39m=\u001b[39;49mcopy_X,\n\u001b[0;32m    342\u001b[0m         coef_init\u001b[39m=\u001b[39;49mcoef_init,\n\u001b[0;32m    343\u001b[0m         verbose\u001b[39m=\u001b[39;49mverbose,\n\u001b[0;32m    344\u001b[0m         positive\u001b[39m=\u001b[39;49mpositive,\n\u001b[0;32m    345\u001b[0m         return_n_iter\u001b[39m=\u001b[39;49mreturn_n_iter,\n\u001b[0;32m    346\u001b[0m         \u001b[39m*\u001b[39;49m\u001b[39m*\u001b[39;49mparams,\n\u001b[0;32m    347\u001b[0m     )\n",
      "File \u001b[1;32mc:\\Users\\William Purvis\\AppData\\Local\\Programs\\Python\\Python311\\Lib\\site-packages\\sklearn\\linear_model\\_coordinate_descent.py:617\u001b[0m, in \u001b[0;36menet_path\u001b[1;34m(X, y, l1_ratio, eps, n_alphas, alphas, precompute, Xy, copy_X, coef_init, verbose, return_n_iter, positive, check_input, **params)\u001b[0m\n\u001b[0;32m    615\u001b[0m     \u001b[39mif\u001b[39;00m check_input:\n\u001b[0;32m    616\u001b[0m         precompute \u001b[39m=\u001b[39m check_array(precompute, dtype\u001b[39m=\u001b[39mX\u001b[39m.\u001b[39mdtype\u001b[39m.\u001b[39mtype, order\u001b[39m=\u001b[39m\u001b[39m\"\u001b[39m\u001b[39mC\u001b[39m\u001b[39m\"\u001b[39m)\n\u001b[1;32m--> 617\u001b[0m     model \u001b[39m=\u001b[39m cd_fast\u001b[39m.\u001b[39;49menet_coordinate_descent_gram(\n\u001b[0;32m    618\u001b[0m         coef_,\n\u001b[0;32m    619\u001b[0m         l1_reg,\n\u001b[0;32m    620\u001b[0m         l2_reg,\n\u001b[0;32m    621\u001b[0m         precompute,\n\u001b[0;32m    622\u001b[0m         Xy,\n\u001b[0;32m    623\u001b[0m         y,\n\u001b[0;32m    624\u001b[0m         max_iter,\n\u001b[0;32m    625\u001b[0m         tol,\n\u001b[0;32m    626\u001b[0m         rng,\n\u001b[0;32m    627\u001b[0m         random,\n\u001b[0;32m    628\u001b[0m         positive,\n\u001b[0;32m    629\u001b[0m     )\n\u001b[0;32m    630\u001b[0m \u001b[39melif\u001b[39;00m precompute \u001b[39mis\u001b[39;00m \u001b[39mFalse\u001b[39;00m:\n\u001b[0;32m    631\u001b[0m     model \u001b[39m=\u001b[39m cd_fast\u001b[39m.\u001b[39menet_coordinate_descent(\n\u001b[0;32m    632\u001b[0m         coef_, l1_reg, l2_reg, X, y, max_iter, tol, rng, random, positive\n\u001b[0;32m    633\u001b[0m     )\n",
      "File \u001b[1;32msklearn\\linear_model\\_cd_fast.pyx:734\u001b[0m, in \u001b[0;36msklearn.linear_model._cd_fast.enet_coordinate_descent_gram\u001b[1;34m()\u001b[0m\n",
      "\u001b[1;31mKeyboardInterrupt\u001b[0m: "
     ]
    }
   ],
   "source": [
    "y_train = y_train.ravel()\n",
    "\n",
    "lcv2 = LassoCV(alphas= np.logspace(-5, -2, 10), cv=3, random_state=42, max_iter=10000)\n",
    "lcv2.fit(X_train, y_train)\n",
    "\n",
    "y_lassoCV2 = lcv2.predict(X_test)\n",
    "model_eval(y_test, y_lassoCV2)"
   ]
  },
  {
   "cell_type": "markdown",
   "metadata": {},
   "source": [
    "## ElasticNet"
   ]
  },
  {
   "cell_type": "code",
   "execution_count": 23,
   "metadata": {},
   "outputs": [
    {
     "name": "stdout",
     "output_type": "stream",
     "text": [
      "R2 score:  -3.678254176864293e-05\n",
      "MAE:  0.8160525766159841\n",
      "MSE:  1.0182903397034655\n"
     ]
    }
   ],
   "source": [
    "#Elastic Net with standardization\n",
    "from sklearn.linear_model import ElasticNet\n",
    "\n",
    "enet = ElasticNet(alpha=1, max_iter=100)\n",
    "enet.fit(X_train_standardized, y_train_transformed)\n",
    "\n",
    "y_enet = enet.predict(X_test_standardized)\n",
    "\n",
    "model_eval(y_test_transformed, y_enet)"
   ]
  },
  {
   "cell_type": "code",
   "execution_count": 24,
   "metadata": {},
   "outputs": [
    {
     "name": "stdout",
     "output_type": "stream",
     "text": [
      "R2 score:  0.5113972493274463\n",
      "MAE:  54.93615758903855\n",
      "MSE:  5363.444972701584\n"
     ]
    }
   ],
   "source": [
    "#Elastic Net without standardization\n",
    "\n",
    "enet2 = ElasticNet(alpha=1, max_iter=100)\n",
    "enet2.fit(X_train, y_train)\n",
    "\n",
    "y_enet2 = enet2.predict(X_test)\n",
    "\n",
    "model_eval(y_test, y_enet2)"
   ]
  },
  {
   "cell_type": "code",
   "execution_count": 45,
   "metadata": {},
   "outputs": [
    {
     "name": "stdout",
     "output_type": "stream",
     "text": [
      "R2 score:  0.8019556003176707\n",
      "MAE:  0.32644982982072684\n",
      "MSE:  0.20165928148794376\n"
     ]
    }
   ],
   "source": [
    "#Cross validation of Elastic Net\n",
    "from sklearn.linear_model import ElasticNetCV\n",
    "\n",
    "enetCV = ElasticNetCV(max_iter=500)\n",
    "enetCV.fit(X_train_standardized, y_train_transformed)\n",
    "\n",
    "y_enetCV = enetCV.predict(X_test_standardized)\n",
    "\n",
    "\n",
    "model_eval(y_test_transformed, y_enetCV)"
   ]
  },
  {
   "cell_type": "code",
   "execution_count": 47,
   "metadata": {},
   "outputs": [
    {
     "name": "stdout",
     "output_type": "stream",
     "text": [
      "Elastic Net best alpha when L1 ratio = 0.2: 0.0016087772068907537\n",
      "Elastic Net best alpha when L1 ratio = 0.5: 0.0006435108827563009\n",
      "Elastic Net best alpha when L1 ratio = 0.7: 0.0004596506305402153\n"
     ]
    }
   ],
   "source": [
    "print('Elastic Net best alpha when L1 ratio = 0.2: 0.0016087772068907537')\n",
    "print('Elastic Net best alpha when L1 ratio = 0.5: 0.0006435108827563009')\n",
    "print('Elastic Net best alpha when L1 ratio = 0.7: 0.0004596506305402153')"
   ]
  },
  {
   "cell_type": "markdown",
   "metadata": {},
   "source": [
    "## MLP"
   ]
  },
  {
   "cell_type": "code",
   "execution_count": 55,
   "metadata": {},
   "outputs": [
    {
     "name": "stdout",
     "output_type": "stream",
     "text": [
      "R2 score:  0.9393014870447186\n",
      "MAE:  0.14636923210583386\n",
      "MSE:  0.06180643597891572\n"
     ]
    }
   ],
   "source": [
    "from sklearn.neural_network import MLPRegressor\n",
    "\n",
    "MLP = MLPRegressor(hidden_layer_sizes=(100,), max_iter = 200, random_state=23)\n",
    "MLP.fit(X_train_standardized, y_train_transformed)\n",
    "\n",
    "y_MLP_pred = MLP.predict(X_test_standardized)\n",
    "model_eval(y_test_transformed, y_MLP_pred)"
   ]
  }
 ],
 "metadata": {
  "kernelspec": {
   "display_name": "Python 3",
   "language": "python",
   "name": "python3"
  },
  "language_info": {
   "codemirror_mode": {
    "name": "ipython",
    "version": 3
   },
   "file_extension": ".py",
   "mimetype": "text/x-python",
   "name": "python",
   "nbconvert_exporter": "python",
   "pygments_lexer": "ipython3",
   "version": "3.11.4"
  },
  "orig_nbformat": 4
 },
 "nbformat": 4,
 "nbformat_minor": 2
}
