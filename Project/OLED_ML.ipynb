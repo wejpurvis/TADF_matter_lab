{
 "cells": [
  {
   "cell_type": "markdown",
   "metadata": {},
   "source": [
    "## ML-powered Predictions on OLED Molecules"
   ]
  },
  {
   "cell_type": "code",
   "execution_count": 2,
   "metadata": {},
   "outputs": [],
   "source": [
    "#Imports\n",
    "\n",
    "import pandas as pd\n",
    "from rdkit import Chem\n",
    "from rdkit.Chem import AllChem\n",
    "import numpy as np"
   ]
  },
  {
   "cell_type": "code",
   "execution_count": 5,
   "metadata": {},
   "outputs": [],
   "source": [
    "#Load data and remove unwanted chromophores\n",
    "smi = pd.read_csv('./data/OLED_dataset_CSV.csv', encoding='windows-1252') # load csv file (20236, 14)\n",
    "\n",
    "target_atom = ['Sn']\n",
    "Unnecessary_chromophores = []\n",
    "\n",
    "smi[\"Molecules\"] = smi[\"Chromophore\"].apply(lambda x: Chem.MolFromSmiles(x)) #Add column of Molecular objects\n",
    "\n",
    "for _, row in smi.iterrows():\n",
    "    atoms = {atom.GetSymbol() for atom in row[\"Molecules\"].GetAtoms()}\n",
    "    if set(target_atom).intersection(atoms):\n",
    "        Unnecessary_chromophores.append(row[\"Chromophore\"])\n",
    "\n",
    "\n",
    "filtered_smi = smi[~smi['Chromophore'].isin(Unnecessary_chromophores)]"
   ]
  },
  {
   "cell_type": "code",
   "execution_count": 31,
   "metadata": {},
   "outputs": [],
   "source": [
    "#Create dictionary of SMILES: Morgan fingerprint\n",
    "\n",
    "Mfp_Chrom = {}\n",
    "\n",
    "for _, row in filtered_smi.iterrows():\n",
    "    fp = AllChem.GetMorganFingerprintAsBitVect(row[\"Molecules\"], 3, nBits=1024)\n",
    "    nf = np.array(fp).tolist()\n",
    "    Mfp_Chrom[row[\"Chromophore\"]] = nf"
   ]
  },
  {
   "cell_type": "code",
   "execution_count": 131,
   "metadata": {},
   "outputs": [],
   "source": [
    "#Get Unique Solvents\n",
    "filtered_smi = filtered_smi[filtered_smi.Solvent != \"gas\"] #remove \"gas\" from solvents\n",
    "filtered_smi_sol = filtered_smi.drop_duplicates(subset=[\"Solvent\"]) #remove duplicates from solvents\n",
    "\n",
    "\n",
    "#Create dictionary of SMILES: Morgan fingerprint (solvents)\n",
    "\n",
    "Mfp_Sol = {}\n",
    "\n",
    "for _, row in filtered_smi_sol.iterrows():\n",
    "    mol = Chem.MolFromSmiles(row[\"Solvent\"])\n",
    "    fp = AllChem.GetMorganFingerprintAsBitVect(mol, 3, nBits=1024)\n",
    "    nf = np.array(fp).tolist()\n",
    "    Mfp_Sol[row[\"Solvent\"]] = nf\n"
   ]
  },
  {
   "cell_type": "markdown",
   "metadata": {},
   "source": [
    "Defining inputs from pre-processed data"
   ]
  },
  {
   "cell_type": "code",
   "execution_count": 132,
   "metadata": {},
   "outputs": [
    {
     "name": "stdout",
     "output_type": "stream",
     "text": [
      "Data points before preprocessing  20236\n",
      "Data points after preprocessing  17275\n"
     ]
    }
   ],
   "source": [
    "feature = smi.columns[3] #Absorption max (nm)\n",
    "\n",
    "oled_dropped = filtered_smi.dropna(subset=feature, axis=0) #(17275, 15) i.e. 17275 chromophores with reported abs\n",
    "\n",
    "print(\"Data points before preprocessing \", len(smi))\n",
    "print(\"Data points after preprocessing \", len(oled_dropped))\n",
    "\n",
    "#Building MF arrays of chromophores and solvents\n",
    "chromophore = [] #list of 17275 chromophore MFPs\n",
    "solvent = [] #17275 solvents\n",
    "mw = [] #17275 mws\n",
    "\n",
    "for _, row in oled_dropped.iterrows():\n",
    "    chromophore.append(Mfp_Chrom[row[\"Chromophore\"]])\n",
    "    solvent.append(Mfp_Sol[row[\"Solvent\"]])\n",
    "    mw.append(row[\"Molecular weight (g mol-1)\"])\n",
    "\n",
    "chromophore_reshaped = np.reshape(chromophore, (-1, 1024)) # (17275, 1024) matrix of chromophore MFP\n",
    "solvent_reshaped = np.reshape(solvent, (-1, 1024)) # (17275, 1024) matrix of solvent MFP\n",
    "mw_reshaped = np.reshape(mw, (-1,1)) # (17275, 1) matrix of molecular weights\n"
   ]
  },
  {
   "cell_type": "code",
   "execution_count": 133,
   "metadata": {},
   "outputs": [],
   "source": [
    "a = np.concatenate((chromophore_reshaped, solvent_reshaped), axis = 1) # (17275, 2048) matrix of chromophore & solvent MFPs\n",
    "b = np.concatenate((a, mw_reshaped), axis = 1) # (17275, 2049) matrix of MFPs & mws\n",
    "\n",
    "feature_reshaped = np.reshape(oled_dropped[feature], (-1,1)) # (17275, 1) vector of features (absorption)\n",
    "\n",
    "X = b\n",
    "Y = feature_reshaped"
   ]
  },
  {
   "cell_type": "markdown",
   "metadata": {},
   "source": [
    "### Machine Learning models"
   ]
  },
  {
   "cell_type": "code",
   "execution_count": 151,
   "metadata": {},
   "outputs": [],
   "source": [
    "from sklearn.model_selection import train_test_split\n",
    "X_train, X_test, y_train, y_test = train_test_split(X, Y, test_size=0.1, random_state=12)"
   ]
  },
  {
   "cell_type": "code",
   "execution_count": 152,
   "metadata": {},
   "outputs": [],
   "source": [
    "from sklearn.preprocessing import StandardScaler, PowerTransformer\n",
    "\n",
    "#Standardise mw data only after split to avoid data leakage\n",
    "scaler_X = StandardScaler().fit(np.array([X_train[:,-1]]).T) #fit scaler to training mws\n",
    "\n",
    "X_mw_train_standardized = scaler_X.transform(np.array([X_train[:,-1]]).T) #standardize to training mw\n",
    "X_train_standardized = np.concatenate((X_train[:, :-1], X_mw_train_standardized), axis=1) #add standardized training mw to training MFPs\n",
    "\n",
    "X_mw_test_standardized = scaler_X.transform(np.array([X_test[:,-1]]).T) #standardize test mw\n",
    "X_test_standardized = np.concatenate((X_test[:, :-1], X_mw_test_standardized), axis=1) #add standardized test mw to testing MFPs\n",
    "\n",
    "pt = PowerTransformer(method = \"box-cox\", standardize = True).fit(y_train)\n",
    "y_train_transformed = pt.transform(y_train)\n",
    "y_test_transformed = pt.transform(y_test)"
   ]
  },
  {
   "cell_type": "code",
   "execution_count": 153,
   "metadata": {},
   "outputs": [
    {
     "name": "stdout",
     "output_type": "stream",
     "text": [
      "X_train mean: 0.257, std: 11.488\n",
      "X_test mean: 0.258, std: 11.656\n",
      "\n",
      "X_train_standardized mean: 0.031, std: 0.176\n",
      "X_test_standardized mean: 0.031, std: 0.176\n",
      "\n",
      "\n",
      "y_train mean: 427.875, std: 105.856\n",
      "y_test mean: 427.055, std: 105.034\n",
      "\n",
      "y_train_transformed mean: 0.000, std: 1.000\n",
      "y_test_transformed mean: -0.007, std: 0.994\n"
     ]
    }
   ],
   "source": [
    "print(f\"X_train mean: {X_train.mean():.3f}, std: {X_train.std():.3f}\")\n",
    "print(f\"X_test mean: {X_test.mean():.3f}, std: {X_test.std():.3f}\")\n",
    "print()\n",
    "print(f\"X_train_standardized mean: {X_train_standardized.mean():.3f}, std: {X_train_standardized.std():.3f}\")\n",
    "print(f\"X_test_standardized mean: {X_test_standardized.mean():.3f}, std: {X_test_standardized.std():.3f}\")\n",
    "print()\n",
    "print()\n",
    "print(f\"y_train mean: {y_train.mean():.3f}, std: {y_train.std():.3f}\")\n",
    "print(f\"y_test mean: {y_test.mean():.3f}, std: {y_test.std():.3f}\")\n",
    "print()\n",
    "print(f\"y_train_transformed mean: {y_train_transformed.mean():.3f}, std: {y_train_transformed.std():.3f}\")\n",
    "print(f\"y_test_transformed mean: {y_test_transformed.mean():.3f}, std: {y_test_transformed.std():.3f}\")"
   ]
  },
  {
   "cell_type": "code",
   "execution_count": 163,
   "metadata": {},
   "outputs": [
    {
     "name": "stdout",
     "output_type": "stream",
     "text": [
      "R2 score:  -1.8612837471370256e+16\n",
      "MAE:  2074627859.577473\n",
      "MSE:  2.0533765825912032e+20\n"
     ]
    }
   ],
   "source": [
    "from sklearn.linear_model import LinearRegression\n",
    "lr = LinearRegression()\n",
    "lr.fit(X_train, y_train)\n",
    "\n",
    "# r2 score\n",
    "from sklearn.metrics import r2_score\n",
    "y_pred = lr.predict(X_test)\n",
    "r2_score = r2_score(y_test, y_pred)\n",
    "print('R2 score: ', r2_score)\n",
    "\n",
    "# MAE\n",
    "from sklearn.metrics import mean_absolute_error\n",
    "mae = mean_absolute_error(y_test, y_pred)\n",
    "print('MAE: ', mae)\n",
    "\n",
    "# MSE\n",
    "from sklearn.metrics import mean_squared_error\n",
    "mse = mean_squared_error(y_test, y_pred)\n",
    "print('MSE: ', mse)"
   ]
  },
  {
   "cell_type": "code",
   "execution_count": 155,
   "metadata": {},
   "outputs": [
    {
     "name": "stdout",
     "output_type": "stream",
     "text": [
      "R2 score:  -6.224008093178616e+20\n",
      "MAE:  3547563245.775686\n",
      "MSE:  6.150942798166587e+20\n"
     ]
    }
   ],
   "source": [
    "from sklearn.linear_model import LinearRegression\n",
    "lr = LinearRegression()\n",
    "lr.fit(X_train_standardized, y_train_transformed)\n",
    "\n",
    "# r2 score\n",
    "from sklearn.metrics import r2_score\n",
    "y_pred = lr.predict(X_test_standardized)\n",
    "r2_score = r2_score(y_test_transformed, y_pred)\n",
    "print('R2 score: ', r2_score)\n",
    "\n",
    "# MAE\n",
    "from sklearn.metrics import mean_absolute_error\n",
    "mae = mean_absolute_error(y_test_transformed, y_pred)\n",
    "print('MAE: ', mae)\n",
    "\n",
    "# MSE\n",
    "from sklearn.metrics import mean_squared_error\n",
    "mse = mean_squared_error(y_test_transformed, y_pred)\n",
    "print('MSE: ', mse)"
   ]
  },
  {
   "cell_type": "code",
   "execution_count": 178,
   "metadata": {},
   "outputs": [],
   "source": [
    "import random\n",
    "\n",
    "states = {}\n",
    "\n",
    "for i in range(10):\n",
    "    state = random.randint(1, 100)\n",
    "    # Code\n",
    "    X_train, X_test, y_train, y_test = train_test_split(X, Y, test_size=0.1, random_state=state)\n",
    "\n",
    "    scaler_X = StandardScaler().fit(np.array([X_train[:,-1]]).T)\n",
    "    X_mw_train_standardized = scaler_X.transform(np.array([X_train[:,-1]]).T)\n",
    "\n",
    "    X_train_standardized = np.concatenate((X_train[:, :-1], X_mw_train_standardized), axis=1)\n",
    "\n",
    "\n",
    "\n",
    "    X_mw_test_standardized = scaler_X.transform(np.array([X_test[:,-1]]).T)\n",
    "    X_test_standardized = np.concatenate((X_test[:, :-1], X_mw_test_standardized), axis=1)\n",
    "\n",
    "    pt = PowerTransformer(method = \"box-cox\", standardize = True).fit(y_train)\n",
    "    y_train_transformed = pt.transform(y_train)\n",
    "    y_test_transformed = pt.transform(y_test)\n",
    "\n",
    "    #Without standardization\n",
    "    lr1 = LinearRegression()\n",
    "    lr1.fit(X_train, y_train)\n",
    "\n",
    "\n",
    "    y_pred1 = lr.predict(X_test)\n",
    "    score1 = lr.score(X_test, y_test)\n",
    "\n",
    "    #With standardization\n",
    "    lr2 = LinearRegression()\n",
    "    lr2.fit(X_train_standardized, y_train_transformed)\n",
    "\n",
    "\n",
    "    y_pred2 = lr.predict(X_test_standardized)\n",
    "    score2 = lr.score(X_test_standardized, y_test_transformed)\n",
    "\n",
    "    states[state] = (score1, score2)\n",
    "\n",
    "    #Increment state\n",
    "    #state += 10"
   ]
  },
  {
   "cell_type": "code",
   "execution_count": 179,
   "metadata": {},
   "outputs": [
    {
     "data": {
      "text/html": [
       "<div>\n",
       "<style scoped>\n",
       "    .dataframe tbody tr th:only-of-type {\n",
       "        vertical-align: middle;\n",
       "    }\n",
       "\n",
       "    .dataframe tbody tr th {\n",
       "        vertical-align: top;\n",
       "    }\n",
       "\n",
       "    .dataframe thead th {\n",
       "        text-align: right;\n",
       "    }\n",
       "</style>\n",
       "<table border=\"1\" class=\"dataframe\">\n",
       "  <thead>\n",
       "    <tr style=\"text-align: right;\">\n",
       "      <th></th>\n",
       "      <th>R2 score w/out Standardization</th>\n",
       "      <th>R2 score w Standardization</th>\n",
       "    </tr>\n",
       "    <tr>\n",
       "      <th>Random_state</th>\n",
       "      <th></th>\n",
       "      <th></th>\n",
       "    </tr>\n",
       "  </thead>\n",
       "  <tbody>\n",
       "    <tr>\n",
       "      <th>15</th>\n",
       "      <td>-1.289767e+15</td>\n",
       "      <td>-1.445306e+19</td>\n",
       "    </tr>\n",
       "    <tr>\n",
       "      <th>23</th>\n",
       "      <td>-1.081449e+15</td>\n",
       "      <td>-1.256128e+19</td>\n",
       "    </tr>\n",
       "    <tr>\n",
       "      <th>81</th>\n",
       "      <td>-4.811101e+15</td>\n",
       "      <td>-5.063567e+19</td>\n",
       "    </tr>\n",
       "    <tr>\n",
       "      <th>51</th>\n",
       "      <td>-4.264195e+15</td>\n",
       "      <td>-4.826623e+19</td>\n",
       "    </tr>\n",
       "    <tr>\n",
       "      <th>88</th>\n",
       "      <td>-1.463525e+15</td>\n",
       "      <td>-1.566885e+19</td>\n",
       "    </tr>\n",
       "    <tr>\n",
       "      <th>50</th>\n",
       "      <td>-1.185482e+15</td>\n",
       "      <td>-1.264228e+19</td>\n",
       "    </tr>\n",
       "    <tr>\n",
       "      <th>69</th>\n",
       "      <td>-8.966995e+14</td>\n",
       "      <td>-9.206402e+18</td>\n",
       "    </tr>\n",
       "    <tr>\n",
       "      <th>20</th>\n",
       "      <td>-1.907086e+15</td>\n",
       "      <td>-2.110657e+19</td>\n",
       "    </tr>\n",
       "    <tr>\n",
       "      <th>63</th>\n",
       "      <td>-2.315057e+15</td>\n",
       "      <td>-2.643406e+19</td>\n",
       "    </tr>\n",
       "  </tbody>\n",
       "</table>\n",
       "</div>"
      ],
      "text/plain": [
       "              R2 score w/out Standardization  R2 score w Standardization\n",
       "Random_state                                                            \n",
       "15                             -1.289767e+15               -1.445306e+19\n",
       "23                             -1.081449e+15               -1.256128e+19\n",
       "81                             -4.811101e+15               -5.063567e+19\n",
       "51                             -4.264195e+15               -4.826623e+19\n",
       "88                             -1.463525e+15               -1.566885e+19\n",
       "50                             -1.185482e+15               -1.264228e+19\n",
       "69                             -8.966995e+14               -9.206402e+18\n",
       "20                             -1.907086e+15               -2.110657e+19\n",
       "63                             -2.315057e+15               -2.643406e+19"
      ]
     },
     "execution_count": 179,
     "metadata": {},
     "output_type": "execute_result"
    }
   ],
   "source": [
    "states_df = pd.DataFrame.from_dict(states, orient=\"index\", columns = [\"R2 score w/out Standardization\", \"R2 score w Standardization\"])\n",
    "states_df.index.name = \"Random_state\"\n",
    "states_df"
   ]
  },
  {
   "cell_type": "code",
   "execution_count": null,
   "metadata": {},
   "outputs": [],
   "source": [
    "#Plot of LR results\n",
    "\n",
    "import matplotlib.pyplot as plt\n",
    "\n",
    "#Limits of plot with offset\n",
    "offset = 50\n",
    "min_limit = min(min(y_test), min(y_pred)) - offset\n",
    "max_limit = max(max(y_test), max(y_pred)) + offset\n",
    "\n",
    "plt.figure(figsize=(6, 6))\n",
    "\n",
    "plt.scatter(y_test, y_pred, color='blue', marker = 'x') # Data\n",
    "\n",
    "plt.plot([min_limit, max_limit], [min_limit, max_limit], color='black')  # Diagonal line\n",
    "\n",
    "\n",
    "plt.xlim(min_limit, max_limit)  # Set x-axis limits\n",
    "plt.ylim(min_limit, max_limit)  # Set y-axis limits\n",
    "\n",
    "plt.title('Linear regression')\n",
    "plt.xlabel('Actual Absorption max / nm')\n",
    "plt.ylabel('Predicted Absorption max / nm')\n",
    "#plt.text(min_limit+25, max_limit-75, f\" R2 score: {r2_score:.2f}\\n MAE: {mae:.2f} nm\")\n",
    "plt.show()"
   ]
  },
  {
   "cell_type": "markdown",
   "metadata": {},
   "source": [
    "## Non-linear ML models"
   ]
  }
 ],
 "metadata": {
  "kernelspec": {
   "display_name": "Python 3",
   "language": "python",
   "name": "python3"
  },
  "language_info": {
   "codemirror_mode": {
    "name": "ipython",
    "version": 3
   },
   "file_extension": ".py",
   "mimetype": "text/x-python",
   "name": "python",
   "nbconvert_exporter": "python",
   "pygments_lexer": "ipython3",
   "version": "3.11.4"
  },
  "orig_nbformat": 4
 },
 "nbformat": 4,
 "nbformat_minor": 2
}
