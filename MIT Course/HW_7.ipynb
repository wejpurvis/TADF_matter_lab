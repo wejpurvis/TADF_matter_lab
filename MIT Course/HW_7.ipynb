{
 "cells": [
  {
   "cell_type": "code",
   "execution_count": 7,
   "metadata": {},
   "outputs": [
    {
     "data": {
      "text/plain": [
       "[8, 9, 9, 9, 0, 0, 0, 1]"
      ]
     },
     "execution_count": 7,
     "metadata": {},
     "output_type": "execute_result"
    }
   ],
   "source": [
    "arr_1 = [9,9,9,9,9,9,9]\n",
    "arr_2 = [9,9,9,9]\n",
    "\n",
    "def AddNum(l1, l2):\n",
    "    rev_1 = l1[::-1]\n",
    "    rev_2 = l2[::-1]\n",
    "\n",
    "    num1 = int(''.join(map(str, rev_1)))\n",
    "    num2 = int(''.join(map(str, rev_2)))\n",
    "\n",
    "    result = num1 + num2\n",
    "\n",
    "    result_list = [int(digit) for digit in str(result)]\n",
    "    \n",
    "    result_rev = result_list[::-1]\n",
    "\n",
    "\n",
    "\n",
    "    return result_rev\n",
    "\n",
    "AddNum(arr_1,arr_2)\n"
   ]
  }
 ],
 "metadata": {
  "kernelspec": {
   "display_name": "base",
   "language": "python",
   "name": "python3"
  },
  "language_info": {
   "codemirror_mode": {
    "name": "ipython",
    "version": 3
   },
   "file_extension": ".py",
   "mimetype": "text/x-python",
   "name": "python",
   "nbconvert_exporter": "python",
   "pygments_lexer": "ipython3",
   "version": "3.10.9"
  },
  "orig_nbformat": 4
 },
 "nbformat": 4,
 "nbformat_minor": 2
}
