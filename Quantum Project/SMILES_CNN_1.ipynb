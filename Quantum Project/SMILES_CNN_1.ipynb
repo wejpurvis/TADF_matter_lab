{
 "cells": [
  {
   "cell_type": "markdown",
   "metadata": {},
   "source": [
    "## RNN model using SMILES to Predict S1 & T1 Energies\n",
    "\n",
    "The dataset has been pre-processed by Kim et al. and was taken from [this paper](https://doi.org/10.1002/bkcs.12516) (DOI: 10.1002/bkcs.12516).  \n",
    "\n",
    "The pre-processed data in `TADF_data_DL.txt` has the following format:\n",
    "\n",
    "    ID | SMILES | HOMO | LUMO | E(S1) | E(T1)\n",
    "\n",
    "This notebook aims to build a simple RNN model using SMILES as input to predict S1 and T1 energies."
   ]
  },
  {
   "cell_type": "code",
   "execution_count": 2,
   "metadata": {},
   "outputs": [],
   "source": [
    "import torch\n",
    "import torch.nn as nn\n",
    "from torch.utils.data import Dataset, DataLoader\n",
    "\n",
    "from rdkit import Chem\n",
    "from rdkit.Chem import AllChem\n",
    "\n",
    "import numpy as np\n",
    "import pandas as pd\n",
    "\n",
    "import random"
   ]
  },
  {
   "cell_type": "markdown",
   "metadata": {},
   "source": [
    "To ensure that the results obtained are reproducible the random seeds for Python, Numpy and PyTorch are defined."
   ]
  },
  {
   "cell_type": "code",
   "execution_count": 3,
   "metadata": {},
   "outputs": [
    {
     "data": {
      "text/plain": [
       "<torch._C.Generator at 0x2189a957910>"
      ]
     },
     "execution_count": 3,
     "metadata": {},
     "output_type": "execute_result"
    }
   ],
   "source": [
    "SEED = 23\n",
    "\n",
    "random.seed(SEED)\n",
    "np.random.seed(SEED)\n",
    "torch.manual_seed(SEED)"
   ]
  },
  {
   "cell_type": "markdown",
   "metadata": {},
   "source": [
    "The dataset is imported and only the S1 & T1"
   ]
  },
  {
   "cell_type": "markdown",
   "metadata": {},
   "source": [
    "The `get_c_to_i` function returns a dictionary with all of the unique SMILES characters indexed. The dataset contains sequences of varying length which is not ideal for an RNN where batch training is employed. Each sequence is therefore padding with an appropriate number of X characters to ensure an equal length."
   ]
  },
  {
   "cell_type": "code",
   "execution_count": 5,
   "metadata": {},
   "outputs": [
    {
     "data": {
      "text/html": [
       "<div>\n",
       "<style scoped>\n",
       "    .dataframe tbody tr th:only-of-type {\n",
       "        vertical-align: middle;\n",
       "    }\n",
       "\n",
       "    .dataframe tbody tr th {\n",
       "        vertical-align: top;\n",
       "    }\n",
       "\n",
       "    .dataframe thead th {\n",
       "        text-align: right;\n",
       "    }\n",
       "</style>\n",
       "<table border=\"1\" class=\"dataframe\">\n",
       "  <thead>\n",
       "    <tr style=\"text-align: right;\">\n",
       "      <th></th>\n",
       "      <th>SMILES</th>\n",
       "      <th>E(S1)</th>\n",
       "      <th>E(T1)</th>\n",
       "      <th>MOL</th>\n",
       "      <th>CANONICAL SMILES</th>\n",
       "    </tr>\n",
       "  </thead>\n",
       "  <tbody>\n",
       "    <tr>\n",
       "      <th>0</th>\n",
       "      <td>COC1=CC=CC(=C1)CNC(=O)CSC2=NC3=CC=CC=C3N2C4=CC...</td>\n",
       "      <td>4.3709</td>\n",
       "      <td>3.4974</td>\n",
       "      <td>&lt;rdkit.Chem.rdchem.Mol object at 0x00000218A2A...</td>\n",
       "      <td>COc1cccc(CNC(=O)CSc2nc3ccccc3n2-c2ccccc2)c1</td>\n",
       "    </tr>\n",
       "    <tr>\n",
       "      <th>1</th>\n",
       "      <td>CCC1=CC=C(C=C1)N2C(=O)CC(C2=O)N(CC3=CC=C(C=C3)...</td>\n",
       "      <td>3.3935</td>\n",
       "      <td>3.1322</td>\n",
       "      <td>&lt;rdkit.Chem.rdchem.Mol object at 0x00000218A2A...</td>\n",
       "      <td>CCc1ccc(N2C(=O)CC(N(Cc3ccc(OC)cc3)C(=O)/C=C/C(...</td>\n",
       "    </tr>\n",
       "    <tr>\n",
       "      <th>2</th>\n",
       "      <td>COC1=C(C=C2C(=C1)N=CN=C2N3C(=NC(=N3)C4=CC=CC=N...</td>\n",
       "      <td>3.3161</td>\n",
       "      <td>2.8620</td>\n",
       "      <td>&lt;rdkit.Chem.rdchem.Mol object at 0x00000218A2A...</td>\n",
       "      <td>COc1cc2ncnc(-n3nc(-c4ccccn4)nc3N)c2cc1OCc1ccccc1</td>\n",
       "    </tr>\n",
       "    <tr>\n",
       "      <th>3</th>\n",
       "      <td>CC1=C(C=C(C=C1)SC2=C3C=CN=CC3=C(C4=CC=CC=C42)C...</td>\n",
       "      <td>2.8377</td>\n",
       "      <td>1.7091</td>\n",
       "      <td>&lt;rdkit.Chem.rdchem.Mol object at 0x00000218A2A...</td>\n",
       "      <td>Cc1ccc(Sc2c3ccccc3c(-c3ccc4ccccc4c3)c3cnccc23)...</td>\n",
       "    </tr>\n",
       "    <tr>\n",
       "      <th>4</th>\n",
       "      <td>C1OC2=C(O1)C=C(C=C2)N=NC3=C(N4C5=CC=CC=C5N=C4S3)O</td>\n",
       "      <td>2.5995</td>\n",
       "      <td>1.6852</td>\n",
       "      <td>&lt;rdkit.Chem.rdchem.Mol object at 0x00000218A2A...</td>\n",
       "      <td>Oc1c(N=Nc2ccc3c(c2)OCO3)sc2nc3ccccc3n12</td>\n",
       "    </tr>\n",
       "    <tr>\n",
       "      <th>...</th>\n",
       "      <td>...</td>\n",
       "      <td>...</td>\n",
       "      <td>...</td>\n",
       "      <td>...</td>\n",
       "      <td>...</td>\n",
       "    </tr>\n",
       "    <tr>\n",
       "      <th>42003</th>\n",
       "      <td>CCCN1C2=C(N=C1C3=CN(N=C3)CC#CC4=CC=C(C=C4)C)N(...</td>\n",
       "      <td>3.0977</td>\n",
       "      <td>2.1784</td>\n",
       "      <td>&lt;rdkit.Chem.rdchem.Mol object at 0x00000218A16...</td>\n",
       "      <td>CCCn1c(-c2cnn(CC#Cc3ccc(C)cc3)c2)nc2c1C=NCN2CC</td>\n",
       "    </tr>\n",
       "    <tr>\n",
       "      <th>42004</th>\n",
       "      <td>CC1=C(C=C(C=C1)C(=O)NC2CC2)NCCCOC3=CC=C(C=C3)C#N</td>\n",
       "      <td>4.2423</td>\n",
       "      <td>3.2670</td>\n",
       "      <td>&lt;rdkit.Chem.rdchem.Mol object at 0x00000218A16...</td>\n",
       "      <td>Cc1ccc(C(=O)NC2CC2)cc1NCCCOc1ccc(C#N)cc1</td>\n",
       "    </tr>\n",
       "    <tr>\n",
       "      <th>42005</th>\n",
       "      <td>COC1=C(C=C(C=C1)C(=O)NCCCNC(=O)C2=NC3=CC=CC=C3...</td>\n",
       "      <td>3.6209</td>\n",
       "      <td>2.9443</td>\n",
       "      <td>&lt;rdkit.Chem.rdchem.Mol object at 0x00000218A16...</td>\n",
       "      <td>COc1ccc(C(=O)NCCCNC(=O)c2nc3ccccc3c(=O)[nH]2)c...</td>\n",
       "    </tr>\n",
       "    <tr>\n",
       "      <th>42006</th>\n",
       "      <td>C1CC1NC(=O)C2=C(SN=C2N)NC3CCSC3</td>\n",
       "      <td>4.5018</td>\n",
       "      <td>3.4017</td>\n",
       "      <td>&lt;rdkit.Chem.rdchem.Mol object at 0x00000218A16...</td>\n",
       "      <td>Nc1nsc(NC2CCSC2)c1C(=O)NC1CC1</td>\n",
       "    </tr>\n",
       "    <tr>\n",
       "      <th>42007</th>\n",
       "      <td>C1CC(CC(C1)O)NC2CCCC3=C2N=CC=C3</td>\n",
       "      <td>4.0991</td>\n",
       "      <td>3.7737</td>\n",
       "      <td>&lt;rdkit.Chem.rdchem.Mol object at 0x00000218A16...</td>\n",
       "      <td>OC1CCCC(NC2CCCc3cccnc32)C1</td>\n",
       "    </tr>\n",
       "  </tbody>\n",
       "</table>\n",
       "<p>42008 rows × 5 columns</p>\n",
       "</div>"
      ],
      "text/plain": [
       "                                                  SMILES   E(S1)   E(T1)  \\\n",
       "0      COC1=CC=CC(=C1)CNC(=O)CSC2=NC3=CC=CC=C3N2C4=CC...  4.3709  3.4974   \n",
       "1      CCC1=CC=C(C=C1)N2C(=O)CC(C2=O)N(CC3=CC=C(C=C3)...  3.3935  3.1322   \n",
       "2      COC1=C(C=C2C(=C1)N=CN=C2N3C(=NC(=N3)C4=CC=CC=N...  3.3161  2.8620   \n",
       "3      CC1=C(C=C(C=C1)SC2=C3C=CN=CC3=C(C4=CC=CC=C42)C...  2.8377  1.7091   \n",
       "4      C1OC2=C(O1)C=C(C=C2)N=NC3=C(N4C5=CC=CC=C5N=C4S3)O  2.5995  1.6852   \n",
       "...                                                  ...     ...     ...   \n",
       "42003  CCCN1C2=C(N=C1C3=CN(N=C3)CC#CC4=CC=C(C=C4)C)N(...  3.0977  2.1784   \n",
       "42004   CC1=C(C=C(C=C1)C(=O)NC2CC2)NCCCOC3=CC=C(C=C3)C#N  4.2423  3.2670   \n",
       "42005  COC1=C(C=C(C=C1)C(=O)NCCCNC(=O)C2=NC3=CC=CC=C3...  3.6209  2.9443   \n",
       "42006                    C1CC1NC(=O)C2=C(SN=C2N)NC3CCSC3  4.5018  3.4017   \n",
       "42007                    C1CC(CC(C1)O)NC2CCCC3=C2N=CC=C3  4.0991  3.7737   \n",
       "\n",
       "                                                     MOL  \\\n",
       "0      <rdkit.Chem.rdchem.Mol object at 0x00000218A2A...   \n",
       "1      <rdkit.Chem.rdchem.Mol object at 0x00000218A2A...   \n",
       "2      <rdkit.Chem.rdchem.Mol object at 0x00000218A2A...   \n",
       "3      <rdkit.Chem.rdchem.Mol object at 0x00000218A2A...   \n",
       "4      <rdkit.Chem.rdchem.Mol object at 0x00000218A2A...   \n",
       "...                                                  ...   \n",
       "42003  <rdkit.Chem.rdchem.Mol object at 0x00000218A16...   \n",
       "42004  <rdkit.Chem.rdchem.Mol object at 0x00000218A16...   \n",
       "42005  <rdkit.Chem.rdchem.Mol object at 0x00000218A16...   \n",
       "42006  <rdkit.Chem.rdchem.Mol object at 0x00000218A16...   \n",
       "42007  <rdkit.Chem.rdchem.Mol object at 0x00000218A16...   \n",
       "\n",
       "                                        CANONICAL SMILES  \n",
       "0            COc1cccc(CNC(=O)CSc2nc3ccccc3n2-c2ccccc2)c1  \n",
       "1      CCc1ccc(N2C(=O)CC(N(Cc3ccc(OC)cc3)C(=O)/C=C/C(...  \n",
       "2       COc1cc2ncnc(-n3nc(-c4ccccn4)nc3N)c2cc1OCc1ccccc1  \n",
       "3      Cc1ccc(Sc2c3ccccc3c(-c3ccc4ccccc4c3)c3cnccc23)...  \n",
       "4                Oc1c(N=Nc2ccc3c(c2)OCO3)sc2nc3ccccc3n12  \n",
       "...                                                  ...  \n",
       "42003     CCCn1c(-c2cnn(CC#Cc3ccc(C)cc3)c2)nc2c1C=NCN2CC  \n",
       "42004           Cc1ccc(C(=O)NC2CC2)cc1NCCCOc1ccc(C#N)cc1  \n",
       "42005  COc1ccc(C(=O)NCCCNC(=O)c2nc3ccccc3c(=O)[nH]2)c...  \n",
       "42006                      Nc1nsc(NC2CCSC2)c1C(=O)NC1CC1  \n",
       "42007                         OC1CCCC(NC2CCCc3cccnc32)C1  \n",
       "\n",
       "[42008 rows x 5 columns]"
      ]
     },
     "execution_count": 5,
     "metadata": {},
     "output_type": "execute_result"
    }
   ],
   "source": [
    "#Character to Index mapping\n",
    "\n",
    "# Data Loading\n",
    "loaded_data = pd.read_csv(\"./data/TADF_data_DL.txt\", sep =\"\\t\", header=None)\n",
    "all_data = loaded_data\n",
    "\n",
    "\n",
    "#Manipulate data using Pandas & RDkit\n",
    "all_data.columns = [\"ID\", \"SMILES\",\"LUMO\", \"HOMO\", \"E(S1)\", \"E(T1)\"]\n",
    "filt_data = all_data.drop(columns = [\"ID\", \"LUMO\", \"HOMO\"])\n",
    "filt_data[\"MOL\"] = filt_data[\"SMILES\"].apply(lambda x: Chem.MolFromSmiles(x)) #Add column of Molecular objects\n",
    "filt_data[\"CANONICAL SMILES\"] = filt_data[\"MOL\"].apply(lambda x: Chem.MolToSmiles(x, canonical = True)) #Add column of Canonical Smiles\n",
    "\n",
    "filt_data"
   ]
  },
  {
   "cell_type": "code",
   "execution_count": 9,
   "metadata": {},
   "outputs": [
    {
     "data": {
      "image/jpeg": "[encoded data removed]",
      "image/png": "[encoded data removed]",
      "text/plain": [
       "<PIL.PngImagePlugin.PngImageFile image mode=RGB size=300x300>"
      ]
     },
     "execution_count": 9,
     "metadata": {},
     "output_type": "execute_result"
    }
   ],
   "source": [
    "from rdkit.Chem import Draw\n",
    "\n",
    "t1 = filt_data.iloc[0,-1]\n",
    "\n",
    "img = Draw.MolToImage(Chem.MolFromSmiles(t1))\n",
    "img"
   ]
  },
  {
   "cell_type": "code",
   "execution_count": 12,
   "metadata": {},
   "outputs": [
    {
     "data": {
      "image/jpeg": "[encoded data removed]",
      "image/png": "[encoded data removed]",
      "text/plain": [
       "<PIL.PngImagePlugin.PngImageFile image mode=RGB size=300x300>"
      ]
     },
     "execution_count": 12,
     "metadata": {},
     "output_type": "execute_result"
    }
   ],
   "source": [
    "t2 = filt_data.iloc[0,0]\n",
    "img = Draw.MolToImage(Chem.MolFromSmiles(t2))\n",
    "img"
   ]
  },
  {
   "cell_type": "code",
   "execution_count": 67,
   "metadata": {},
   "outputs": [
    {
     "data": {
      "text/plain": [
       "tensor([ 0,  1,  0,  2,  3,  0,  0,  3,  0,  0,  4,  3,  0,  2,  5,  0,  6,  0,\n",
       "         4,  3,  1,  5,  0,  7,  0,  8,  3,  6,  0,  9,  3,  0,  0,  3,  0,  0,\n",
       "         3,  0,  9,  6,  8,  0, 10,  3,  0,  0,  3,  0,  0,  3,  0, 10, 25, 25,\n",
       "        25, 25, 25, 25, 25, 25, 25, 25, 25, 25, 25, 25, 25, 25, 25, 25, 25, 25,\n",
       "        25, 25, 25, 25, 25, 25, 25, 25, 25, 25, 25, 25, 25, 25, 25, 25, 25, 25,\n",
       "        25, 25, 25, 25, 25, 25, 25, 25, 25, 25], dtype=torch.int32)"
      ]
     },
     "execution_count": 67,
     "metadata": {},
     "output_type": "execute_result"
    }
   ],
   "source": [
    "#Function from paper (not great)\n",
    "\n",
    "def get_c_to_i(smiles_list):\n",
    "    c_to_i = {}\n",
    "\n",
    "    for smiles in smiles_list:\n",
    "        for letter in smiles:\n",
    "            if letter not in c_to_i:\n",
    "                c_to_i[letter] = len(c_to_i)\n",
    "    c_to_i['X'] = len(c_to_i)\n",
    "    return c_to_i\n",
    "\n",
    "def adjust_smiles(smiles_list,maxlen):\n",
    "    for i in range(len(smiles_list)):\n",
    "        smiles_list[i] = smiles_list[i].ljust(maxlen,'X')\n",
    "max_length_index = max(filt_data[\"SMILES\"].str.len().max(), 180)\n",
    "smiles_list = filt_data[\"SMILES\"].tolist()\n",
    "\n",
    "c_to_i = get_c_to_i(smiles_list)\n",
    "\n",
    "adjust_smiles(smiles_list, 100)\n",
    "\n",
    "c_to_i\n",
    "\n",
    "def encode_smiles(inp):\n",
    "    smiles_list = inp\n",
    "    seq_list = []\n",
    "    for smiles in smiles_list:\n",
    "        seq=[]\n",
    "        for s in smiles:\n",
    "            seq.append(c_to_i[s])\n",
    "        seq = torch.from_numpy(np.array(seq))\n",
    "        seq_list.append(seq)\n",
    "    return seq_list\n",
    "\n",
    "seq_list = encode_smiles(smiles_list)\n",
    "seq_list[0]"
   ]
  },
  {
   "cell_type": "markdown",
   "metadata": {},
   "source": [
    "Next, a custom dataset class is created."
   ]
  },
  {
   "cell_type": "code",
   "execution_count": null,
   "metadata": {},
   "outputs": [],
   "source": [
    "path = \"./data/TADF_100.txt\" #location of data\n",
    "\n",
    "class RNNDataset_SMILES(Dataset):\n",
    "\n",
    "    def __init__(self, fn, length = None):\n",
    "        # Data Loading\n",
    "        loaded_data = pd.read_csv(fn, sep =\"\\t\", header=None)\n",
    "        all_data = loaded_data[:length]\n",
    "        self.data = all_data #Return all data as dataframe\n",
    "\n",
    "        #Manipulate data using Pandas & RDkit\n",
    "        all_data.columns = [\"ID\", \"SMILES\",\"LUMO\", \"HOMO\", \"E(S1)\", \"E(T1)\"]\n",
    "        filt_data = all_data.drop(columns = [\"ID\", \"LUMO\", \"HOMO\"])\n",
    "        filt_data[\"MOL\"] = filt_data[\"SMILES\"].apply(lambda x: Chem.MolFromSmiles(x)) #Add column of Molecular objects\n",
    "\n",
    "        def calculate_MFP(molecule):\n",
    "            fp = AllChem.GetMorganFingerprintAsBitVect(molecule, 3, nBits=1024)\n",
    "            nf = fp.ToList()\n",
    "            return nf\n",
    "        \n",
    "        filt_data[\"MFP\"] = filt_data[\"MOL\"].apply(calculate_MFP)\n",
    "\n",
    "        mfps = np.array(filt_data[\"MFP\"].tolist())\n",
    "        #e_s1 = np.array(filt_data[\"E(S1)\"])\n",
    "        #e_t1 = np.array(filt_data[\"E(T1)\"])\n",
    "\n",
    "        energies = np.column_stack((filt_data[\"E(S1)\"], filt_data[\"E(T1)\"]))\n",
    "        \n",
    "        self.mfps = mfps #Vector of Morgan fingerprints (X by 1024)\n",
    "        self.energies = energies # Matrix of S1 & T1 energies(X by 2)\n",
    "        self.n_samples = filt_data.shape[0] #number of data_points\n",
    "\n",
    "    def __getitem__(self, index):\n",
    "        # dataset[0]\n",
    "\n",
    "        return self.mfps[index], self.energies[index]\n",
    "\n",
    "        \"\"\"\n",
    "        energy_dict = dict()\n",
    "\n",
    "        energy_dict[\"FP\"] = self.mfps[index]\n",
    "        energy_dict[\"Energies\"] = self.energies[index]\n",
    "\n",
    "        return energy_dict\n",
    "        \"\"\"\n",
    "\n",
    "    def __len__(self):\n",
    "        # Length of Dataset\n",
    "        return self.n_samples"
   ]
  },
  {
   "cell_type": "code",
   "execution_count": null,
   "metadata": {},
   "outputs": [],
   "source": [
    "full_dataset = MFDataset(path)"
   ]
  }
 ],
 "metadata": {
  "kernelspec": {
   "display_name": "Python 3",
   "language": "python",
   "name": "python3"
  },
  "language_info": {
   "codemirror_mode": {
    "name": "ipython",
    "version": 3
   },
   "file_extension": ".py",
   "mimetype": "text/x-python",
   "name": "python",
   "nbconvert_exporter": "python",
   "pygments_lexer": "ipython3",
   "version": "3.11.4"
  },
  "orig_nbformat": 4
 },
 "nbformat": 4,
 "nbformat_minor": 2
}
