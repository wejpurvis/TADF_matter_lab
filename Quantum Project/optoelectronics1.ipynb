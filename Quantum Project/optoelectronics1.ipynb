{
 "cells": [
  {
   "cell_type": "markdown",
   "metadata": {},
   "source": [
    "# TADF ML\n",
    "\n",
    "Notebook for prediction of molecular electronic properties in TADF candidates\n",
    "\n",
    "Data format:\n",
    "\n",
    "    ID | SMILES | HOMO | LUMO | E(S1) | E(T1)\n",
    "\n"
   ]
  },
  {
   "cell_type": "code",
   "execution_count": 39,
   "metadata": {},
   "outputs": [],
   "source": [
    "#Imports\n",
    "from tqdm import tqdm\n",
    "from rdkit import Chem\n",
    "from rdkit.Chem import AllChem\n",
    "from multiprocessing import Pool\n",
    "import os\n",
    "import random\n",
    "from rdkit.Chem import ChemicalFeatures\n",
    "from rdkit import RDConfig"
   ]
  },
  {
   "cell_type": "code",
   "execution_count": 51,
   "metadata": {},
   "outputs": [],
   "source": [
    "f_100 = open(\"./data/TADF_100.txt\", \"r\")\n",
    "\"\"\"\n",
    "lines = f_100.readlines()\n",
    "print(len(lines))\n",
    "\n",
    "f_100.seek(0)\n",
    "\n",
    "for i in range(20):\n",
    "    line = f_100.readline()\n",
    "    print(line.strip().split()[1])\n",
    "\n",
    "\"\"\"\n",
    "\n",
    "no_unwanted_mols = []\n",
    "\n",
    "def data_filter(line):\n",
    "    unwanted_atoms = ['F', 'Cl', 'Br','I','U', 'Te', 'Se', 'Tl', 'Tc','+','.','P=O','P(=O)', 'S=O','S(=O)','Pb','Mn', '-]','A','G','Hg','Sn','Bi','Sb','Nb','V','Cr','W','Co','Pt','Os', 'Mo', 'Rh', 'Ta', 'Ni', 'Re', 'Pd', 'Zn', 'Ru', 'Zr', 'Po', 'Xe', 'Y', 'Cu', 'Sr', 'Pr','*']\n",
    "    smi = line.split()[1]\n",
    "\n",
    "    for atom in unwanted_atoms:\n",
    "        if at\n",
    "\n",
    "f_100.close()"
   ]
  },
  {
   "cell_type": "code",
   "execution_count": 97,
   "metadata": {},
   "outputs": [
    {
     "name": "stderr",
     "output_type": "stream",
     "text": [
      "Processing: 100%|██████████| 21/21 [00:00<00:00, 51.59line/s]\n"
     ]
    }
   ],
   "source": [
    "from rdkit import Chem\n",
    "from rdkit.Chem import AllChem\n",
    "from multiprocessing import Pool\n",
    "import os\n",
    "import random\n",
    "from rdkit.Chem import ChemicalFeatures\n",
    "from rdkit import RDConfig\n",
    "\n",
    "fdefName = os.path.join(RDConfig.RDDataDir,'BaseFeatures.fdef')\n",
    "factory = ChemicalFeatures.BuildFeatureFactory(fdefName)\n",
    "\n",
    "def filt_data(line):\n",
    "    except_list = ['F', 'Cl', 'Br','I','U', 'Te', 'Se', 'Tl', 'Tc','+','.','P=O','P(=O)', 'S=O','S(=O)','Pb','Mn', '-]','A','G','Hg','Sn','Bi','Sb','Nb','V','Cr','W','Co','Pt','Os', 'Mo', 'Rh', 'Ta', 'Ni', 'Re', 'Pd', 'Zn', 'Ru', 'Zr', 'Po', 'Xe', 'Y', 'Cu', 'Sr', 'Pr','*']\n",
    "\n",
    "    try:\n",
    "        label = line.split()[1]\n",
    "        except_val = 0\n",
    "        for element in except_list:\n",
    "            if element in label:\n",
    "                except_val = 1\n",
    "        if except_val == 0 and '3' in label:\n",
    "            mol = Chem.MolFromSmiles(label)\n",
    "            atomnum = mol.GetNumAtoms()\n",
    "            if atomnum < 50 and atomnum > 6:\n",
    "                suppl = Chem.ResonanceMolSupplier(mol)\n",
    "                num_conj = suppl.GetNumConjGrps()\n",
    "                if num_conj > 0:\n",
    "                    return line\n",
    "    except:\n",
    "        a = 1\n",
    "    return 0\n",
    "\n",
    "if __name__ =='__main__':\n",
    "    #Read pubchem data\n",
    "    f = open('././data/TADF_data_DL.txt','r')\n",
    "    lines = f.readlines()\n",
    "    f.close()\n",
    "\n",
    "    #Extract small organic molecules\n",
    "    \"\"\"\n",
    "    pool = Pool(processes = 28)\n",
    "    results = pool.map(filt_data,lines)\n",
    "    pool.close()\n",
    "    pool.join()\n",
    "    \"\"\"\n",
    "    results = map(filt_data, lines)\n",
    "\n",
    "    #Write extracted molecules\n",
    "    f = open('screened_molecule.txt','w')\n",
    "    for result in results:\n",
    "        if result != 0:\n",
    "            f.write(result)\n",
    "    f.close()\n",
    "\n",
    "    random.seed(0)\n",
    "    inp = 'screened_molecule.txt'\n",
    "    #num_data = 40000\n",
    "\n",
    "    f = open(inp,'r')\n",
    "    lines = f.readlines()\n",
    "    f.close()\n",
    "\n",
    "    sample_list = random.sample(lines,len(inp))\n",
    "    f = open('sampled_data.txt','w')\n",
    "    for line in tqdm(sample_list, desc=\"Processing\", unit =\"line\"):\n",
    "        cnt = 0\n",
    "\n",
    "        CID,smiles = line.strip().split()[0:2]\n",
    "\n",
    "        mol = Chem.MolFromSmiles(smiles)\n",
    "        feats = factory.GetFeaturesForMol(mol)\n",
    "\n",
    "        for i in range(len(feats)):\n",
    "            if feats[i].GetFamily() == 'Aromatic':\n",
    "                cnt += 1\n",
    "        if cnt > 0:\n",
    "            f.write(line)\n",
    "    f.close()"
   ]
  },
  {
   "cell_type": "code",
   "execution_count": 82,
   "metadata": {},
   "outputs": [
    {
     "name": "stderr",
     "output_type": "stream",
     "text": [
      "Processing:   0%|          | 0/100 [00:00<?, ?line/s]"
     ]
    },
    {
     "name": "stderr",
     "output_type": "stream",
     "text": [
      "Processing: 100%|██████████| 100/100 [00:01<00:00, 58.05line/s]\n"
     ]
    }
   ],
   "source": [
    "f_100 = open(\"./data/TADF_100.txt\", \"r\")\n",
    "lines = f_100.readlines()\n",
    "f_100.close()\n",
    "\n",
    "random.seed(10)\n",
    "sample_list = random.sample(lines,len(lines))\n",
    "\n",
    "fdefName = os.path.join(RDConfig.RDDataDir,'BaseFeatures.fdef')\n",
    "factory = ChemicalFeatures.BuildFeatureFactory(fdefName)\n",
    "\n",
    "f = open(\"sampled_test_data.txt\", \"w\")\n",
    "\n",
    "\n",
    "for line in tqdm(sample_list, desc=\"Processing\", unit =\"line\"):\n",
    "    cnt = 0\n",
    "\n",
    "    CID,smiles = line.strip().split()[0:2]\n",
    "\n",
    "    mol = Chem.MolFromSmiles(smiles)\n",
    "    feats = factory.GetFeaturesForMol(mol)\n",
    "\n",
    "    for i in range(len(feats)):\n",
    "        if feats[i].GetFamily() == 'Aromatic':\n",
    "            cnt += 1\n",
    "    if cnt > 0:\n",
    "        f.write(line)\n",
    "\n",
    "f.close()\n"
   ]
  },
  {
   "cell_type": "code",
   "execution_count": 95,
   "metadata": {},
   "outputs": [
    {
     "name": "stdout",
     "output_type": "stream",
     "text": [
      "['106\\tCN1CCC(CC1)C2=CN(C3=C2C=C(C=C3)C(=O)N)C\\t-5.3875850860000005\\t-0.612800728\\t4.2267\\t3.107', '24\\tCCN1C2=C(C=C(C(=C2)C)/C=C(\\\\C#N)/C(=O)NC3=CC(=CC(=C3)C)C)C(=CC1(C)C)C\\t-5.153567046\\t-1.9012605180000002\\t3.0374\\t1.9821\\n']\n"
     ]
    }
   ],
   "source": [
    "with open(\"./sampled_test_data.txt\", \"r\") as f_s:\n",
    "    lines2 = f_s.readlines()\n",
    "\n",
    "non_aromatic = list(set(lines) - set(lines2))\n",
    "\n",
    "print(non_aromatic)"
   ]
  },
  {
   "cell_type": "code",
   "execution_count": 91,
   "metadata": {},
   "outputs": [
    {
     "name": "stdout",
     "output_type": "stream",
     "text": [
      "99\n"
     ]
    }
   ],
   "source": [
    "print(len(lines2))"
   ]
  }
 ],
 "metadata": {
  "kernelspec": {
   "display_name": "base",
   "language": "python",
   "name": "python3"
  },
  "language_info": {
   "codemirror_mode": {
    "name": "ipython",
    "version": 3
   },
   "file_extension": ".py",
   "mimetype": "text/x-python",
   "name": "python",
   "nbconvert_exporter": "python",
   "pygments_lexer": "ipython3",
   "version": "3.11.4"
  },
  "orig_nbformat": 4
 },
 "nbformat": 4,
 "nbformat_minor": 2
}
