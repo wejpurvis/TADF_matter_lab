{
 "cells": [
  {
   "cell_type": "markdown",
   "metadata": {},
   "source": [
    "## MLP model using Molecular Fingerprints to Predict S1 & T1 Energies\n",
    "\n",
    "The dataset has been pre-processed by Kim et al. and was taken from [this paper](https://doi.org/10.1002/bkcs.12516) (DOI: 10.1002/bkcs.12516).  \n",
    "\n",
    "The pre-processed data in `TADF_data_DL.txt` has the following format:\n",
    "\n",
    "    ID | SMILES | HOMO | LUMO | E(S1) | E(T1)\n",
    "\n",
    "The goal of this project is to predict the S1 and T1 energies using differenet combinations of molecular representations & ML models.\n",
    "\n",
    "First, the necessary libraries are imported:\n",
    "- torch for general PyTorch functionality\n",
    "- torch.nn for neural network based functionalities\n",
    "- torch.utils.data for handling the dataset\n",
    "- torch.optim for the optimize which will update the parameters of the neural network\n",
    "- torch.metrics.R2Score to assess the accuracy of the model\n",
    "- rdkit.chem to obtain the molecular fingerprints from the SMILES\n",
    "- matplotlib & seaborn for plotting\n",
    "\n",
    "This notebook aims to recreate the MLP model employed in the literature"
   ]
  },
  {
   "cell_type": "code",
   "execution_count": 2,
   "metadata": {},
   "outputs": [],
   "source": [
    "import torch\n",
    "import torch.nn as nn\n",
    "from torch.utils.data import Dataset, DataLoader\n",
    "import torch.optim as optim\n",
    "from torcheval.metrics import R2Score\n",
    "\n",
    "from rdkit import Chem\n",
    "from rdkit.Chem import AllChem\n",
    "\n",
    "import matplotlib.pyplot as plt\n",
    "import seaborn as sns\n",
    "\n",
    "from tqdm import tqdm\n",
    "\n",
    "import pandas as pd\n",
    "import numpy as np\n",
    "\n",
    "import random\n",
    "import time"
   ]
  },
  {
   "cell_type": "code",
   "execution_count": 3,
   "metadata": {},
   "outputs": [
    {
     "data": {
      "text/plain": [
       "<torch._C.Generator at 0x2a332d28ad0>"
      ]
     },
     "execution_count": 3,
     "metadata": {},
     "output_type": "execute_result"
    }
   ],
   "source": [
    "SEED = 23\n",
    "\n",
    "random.seed(SEED)\n",
    "np.random.seed(SEED)\n",
    "torch.manual_seed(SEED)"
   ]
  },
  {
   "cell_type": "code",
   "execution_count": 4,
   "metadata": {},
   "outputs": [],
   "source": [
    "class MFDataset(Dataset):\n",
    "\n",
    "    def __init__(self, fn, length = None):\n",
    "        # Data Loading\n",
    "        loaded_data = pd.read_csv(fn, sep =\"\\t\", header=None)\n",
    "        all_data = loaded_data[:length]\n",
    "        self.data = all_data #Return all data as dataframe\n",
    "\n",
    "        #Manipulate data using Pandas & RDkit\n",
    "        all_data.columns = [\"ID\", \"SMILES\",\"LUMO\", \"HOMO\", \"E(S1)\", \"E(T1)\"]\n",
    "        filt_data = all_data.drop(columns = [\"ID\", \"LUMO\", \"HOMO\"])\n",
    "        filt_data[\"MOL\"] = filt_data[\"SMILES\"].apply(lambda x: Chem.MolFromSmiles(x)) #Add column of Molecular objects\n",
    "\n",
    "        def calculate_MFP(molecule):\n",
    "            fp = AllChem.GetMorganFingerprintAsBitVect(molecule, 3, nBits=1024)\n",
    "            nf = fp.ToList()\n",
    "            return nf\n",
    "        \n",
    "        filt_data[\"MFP\"] = filt_data[\"MOL\"].apply(calculate_MFP)\n",
    "\n",
    "        mfps = np.array(filt_data[\"MFP\"].tolist())\n",
    "        #e_s1 = np.array(filt_data[\"E(S1)\"])\n",
    "        #e_t1 = np.array(filt_data[\"E(T1)\"])\n",
    "\n",
    "        energies = np.column_stack((filt_data[\"E(S1)\"], filt_data[\"E(T1)\"]))\n",
    "        \n",
    "        self.mfps = mfps #Vector of Morgan fingerprints (X by 1024)\n",
    "        self.energies = energies # Matrix of S1 & T1 energies(X by 2)\n",
    "        self.n_samples = filt_data.shape[0] #number of data_points\n",
    "\n",
    "    def __getitem__(self, index):\n",
    "        # dataset[0]\n",
    "\n",
    "        return self.mfps[index], self.energies[index]\n",
    "\n",
    "        \"\"\"\n",
    "        energy_dict = dict()\n",
    "\n",
    "        energy_dict[\"FP\"] = self.mfps[index]\n",
    "        energy_dict[\"Energies\"] = self.energies[index]\n",
    "\n",
    "        return energy_dict\n",
    "        \"\"\"\n",
    "\n",
    "    def __len__(self):\n",
    "        # Length of Dataset\n",
    "        return self.n_samples"
   ]
  },
  {
   "cell_type": "markdown",
   "metadata": {},
   "source": [
    "Once the custom dataset class has been created, the data is loaded and split into 8:1:1 for training, validation, & testing sets."
   ]
  },
  {
   "cell_type": "code",
   "execution_count": 41,
   "metadata": {},
   "outputs": [],
   "source": [
    "path = \"./data/TADF_data_DL.txt\" #location of data\n",
    "\n",
    "full_dataset = MFDataset(path)\n",
    "\n",
    "#Splitting dataset 8:1:1\n",
    "total_size = len(full_dataset)\n",
    "train_size = int(0.8*total_size)\n",
    "validation_size = int(0.1*total_size)\n",
    "test_size = total_size - (train_size + validation_size)\n",
    "\n",
    "train_dataset, val_dataset, test_dataset = torch.utils.data.random_split(full_dataset, [train_size, validation_size, test_size])\n",
    "\n",
    "#Create DataLoaders for training, validation, & testing\n",
    "bs = 32\n",
    "\n",
    "train_dataloader = DataLoader(train_dataset, batch_size = bs, shuffle = True)\n",
    "val_dataloader = DataLoader(val_dataset, batch_size = bs, shuffle = False)\n",
    "test_dataloader = DataLoader(test_dataset, batch_size = bs, shuffle = False)"
   ]
  },
  {
   "cell_type": "markdown",
   "metadata": {},
   "source": [
    "# Defining the Model\n",
    "The model used will be a neural network, specifially a multilayer perceptron (MLP). The hyperparameters for the MLP employed by Kim, Kim, & Kim are shown below:\n",
    "\n",
    "- Dimension of hidden layers: 1869\n",
    "- Number of hidden layers: 7\n",
    "- Dropout p: 0.0\n",
    "- Number of linear layers of predictor: 1\n",
    "- Learning rate: 10<sup>-3.5075</sup>   "
   ]
  },
  {
   "cell_type": "code",
   "execution_count": 42,
   "metadata": {},
   "outputs": [
    {
     "name": "stdout",
     "output_type": "stream",
     "text": [
      "0.0003108135902739477\n"
     ]
    }
   ],
   "source": [
    "e = 10**-3.5075\n",
    "print(e)"
   ]
  },
  {
   "cell_type": "code",
   "execution_count": 31,
   "metadata": {},
   "outputs": [],
   "source": [
    "#Layers building block\n",
    "class MLP(nn.Module):\n",
    "    def __init__(self, in_feature, out_feature, dropout):\n",
    "        super().__init__()\n",
    "        self.in_feature = in_feature\n",
    "        self.dropout = dropout\n",
    "        self.Linear=nn.Linear(in_feature,out_feature)\n",
    "        self.dropout = nn.Dropout(p=self.dropout)\n",
    "        self.activation = nn.ReLU()\n",
    "\n",
    "    def forward(self, x):\n",
    "        skip_x = x\n",
    "        x = self.Linear(x)\n",
    "        x = self.dropout(x)\n",
    "        x = x+skip_x\n",
    "        x = self.activation(x)\n",
    "\n",
    "        return x\n",
    "\n",
    "#Fingerprint MLP model\n",
    "class FpMLP(nn.Module):\n",
    "    def __init__(self, args):\n",
    "        super(FpMLP, self).__init__()\n",
    "\n",
    "        # Argument Define\n",
    "        self.dim_of_fp = args[\"fp_dim\"]\n",
    "        self.dim_of_Linear = args[\"hidden_dim\"]\n",
    "\n",
    "        self.N_predict_layer = args[\"N_MLP_layer\"]\n",
    "        self.N_predict_FC = args[\"N_predictor_layer\"]\n",
    "\n",
    "        self.N_properties = args[\"N_properties\"]\n",
    "\n",
    "        self.dropout = args[\"dropout\"]\n",
    "\n",
    "        self.embedding=nn.Linear(self.dim_of_fp,self.dim_of_Linear)\n",
    "\n",
    "        self.MLPs= nn.ModuleList([\n",
    "            MLP(self.dim_of_Linear,self.dim_of_Linear,self.dropout) for _ in range(self.N_predict_layer)])\n",
    "\n",
    "        self.predict = \\\n",
    "            nn.ModuleList([\n",
    "                nn.Sequential(nn.Linear(self.dim_of_Linear,self.dim_of_Linear),\n",
    "                              nn.Dropout(p=self.dropout),\n",
    "                              nn.ReLU())\n",
    "                for _ in range(self.N_predict_FC-1)] +\n",
    "                [nn.Linear(self.dim_of_Linear,self.N_properties)\n",
    "            ])\n",
    "\n",
    "    def forward(self, x):\n",
    "        x = self.embedding(x)\n",
    "\n",
    "        for layer in self.MLPs:\n",
    "            x = layer(x)\n",
    "\n",
    "        for layer in self.predict:\n",
    "            x = layer(x)\n",
    "        return x"
   ]
  },
  {
   "cell_type": "markdown",
   "metadata": {},
   "source": [
    "### Training"
   ]
  },
  {
   "cell_type": "code",
   "execution_count": 66,
   "metadata": {},
   "outputs": [],
   "source": [
    "#Define model hyperparameters, learning rate, & criterion\n",
    "config = {\n",
    "    \"fp_dim\": 1024,\n",
    "    \"hidden_dim\": 100, #1869 in literature\n",
    "    \"N_MLP_layer\": 10, #7 in literature\n",
    "    \"N_predictor_layer\": 1, #1 in literature\n",
    "    \"N_properties\": 2, #S1 & T1 energies\n",
    "    \"dropout\": 0, #0 in literature\n",
    "    \"learning_rate\": 0.003,\n",
    "    \"criterion\": nn.SmoothL1Loss() #L1 used in literature\n",
    "}\n",
    "\n",
    "model = FpMLP(config)\n",
    "\n",
    "\n",
    "learning_rate = config[\"learning_rate\"]\n",
    "criterion = config[\"criterion\"]\n",
    "optimizer = optim.Adam(model.parameters(), lr = learning_rate)\n",
    "\n",
    "\n",
    "#Traing loop\n",
    "def train(model, iterator, optimizer, loss_funct):\n",
    "    \n",
    "    epoch_loss = 0\n",
    "    r2_score = 0\n",
    "    model.train() #Set model to training mode\n",
    "\n",
    "    for (x, y) in tqdm(iterator, desc=\"Training\", leave=False):\n",
    "        x = x.to(torch.float32) #MFP\n",
    "        y = y.to(torch.float32) #S1 & T1 energies\n",
    "\n",
    "        optimizer.zero_grad() #clears gradients calculated from last batch\n",
    "        \n",
    "        #Forward pass\n",
    "        y_pred = model(x)\n",
    "\n",
    "        #Compute the loss\n",
    "        loss = loss_funct(y_pred, y)\n",
    "\n",
    "        #Backpropragation\n",
    "        loss.backward() #claculate gradient of loss\n",
    "        optimizer.step() #update parameters by taking an optimizer step\n",
    "\n",
    "        r2 = R2Score()\n",
    "        r2.update(y_pred,y)\n",
    "        r2_score += float(r2.compute())\n",
    "\n",
    "        epoch_loss += loss.item()\n",
    "\n",
    "    return epoch_loss / len(iterator), r2_score / len(iterator)\n",
    "\n",
    "#Validation loop (similar to trainig loop but gradients are not calculated)\n",
    "def evaluate(model, iterator, loss_funct):\n",
    "\n",
    "    epoch_loss = 0\n",
    "    r2_score = 0\n",
    "    model.eval()\n",
    "\n",
    "    with torch.no_grad():\n",
    "        for (x, y) in tqdm(iterator, desc=\"Evaluating\", leave=False):\n",
    "            x = x.to(torch.float32) #MFP\n",
    "            y = y.to(torch.float32) #S1 & T1 energies\n",
    "\n",
    "            y_pred = model(x)\n",
    "            loss = loss_funct(y_pred, y)\n",
    "\n",
    "            r2 = R2Score()\n",
    "            r2.update(y_pred,y)\n",
    "            r2_score += float(r2.compute())\n",
    "\n",
    "            epoch_loss += loss.item()\n",
    "\n",
    "    return epoch_loss / len(iterator), r2_score / len(iterator)\n",
    "\n",
    "\n",
    "def epoch_time(start_time, end_time):\n",
    "    elapsed_time = end_time - start_time\n",
    "    elapsed_mins = int(elapsed_time / 60)\n",
    "    elapsed_secs = int(elapsed_time - (elapsed_mins * 60))\n",
    "    return elapsed_mins, elapsed_secs\n",
    "\n",
    "#function to save model when best validation loss is found\n",
    "def save_model(model, config, filename):\n",
    "    state = {\n",
    "        \"config\": config,\n",
    "        \"model_state_dict\": model.state_dict()\n",
    "    }\n",
    "    torch.save(state, filename)"
   ]
  },
  {
   "cell_type": "code",
   "execution_count": 55,
   "metadata": {},
   "outputs": [
    {
     "name": "stderr",
     "output_type": "stream",
     "text": [
      "Training Model:   1%|          | 1/100 [00:15<26:14, 15.90s/epoch]"
     ]
    },
    {
     "name": "stdout",
     "output_type": "stream",
     "text": [
      "Epoch: 0 | Epoch Time: 0m 15s\n",
      "\tTrain Loss: 0.130\n",
      "\tTrain R2: 0.193\n",
      "\tVal. Loss: 0.097\n",
      "\tVal. R2: 0.471\n"
     ]
    },
    {
     "name": "stderr",
     "output_type": "stream",
     "text": [
      "Training Model:  11%|█         | 11/100 [06:40<57:19, 38.65s/epoch] "
     ]
    },
    {
     "name": "stdout",
     "output_type": "stream",
     "text": [
      "Epoch: 10 | Epoch Time: 0m 49s\n",
      "\tTrain Loss: 0.041\n",
      "\tTrain R2: 0.771\n",
      "\tVal. Loss: 0.083\n",
      "\tVal. R2: 0.548\n"
     ]
    },
    {
     "name": "stderr",
     "output_type": "stream",
     "text": [
      "Training Model:  21%|██        | 21/100 [12:02<45:29, 34.55s/epoch]"
     ]
    },
    {
     "name": "stdout",
     "output_type": "stream",
     "text": [
      "Epoch: 20 | Epoch Time: 0m 39s\n",
      "\tTrain Loss: 0.025\n",
      "\tTrain R2: 0.855\n",
      "\tVal. Loss: 0.088\n",
      "\tVal. R2: 0.520\n"
     ]
    },
    {
     "name": "stderr",
     "output_type": "stream",
     "text": [
      "Training Model:  31%|███       | 31/100 [17:00<36:26, 31.69s/epoch]"
     ]
    },
    {
     "name": "stdout",
     "output_type": "stream",
     "text": [
      "Epoch: 30 | Epoch Time: 0m 37s\n",
      "\tTrain Loss: 0.018\n",
      "\tTrain R2: 0.891\n",
      "\tVal. Loss: 0.090\n",
      "\tVal. R2: 0.513\n"
     ]
    },
    {
     "name": "stderr",
     "output_type": "stream",
     "text": [
      "Training Model:  41%|████      | 41/100 [22:20<33:56, 34.51s/epoch]"
     ]
    },
    {
     "name": "stdout",
     "output_type": "stream",
     "text": [
      "Epoch: 40 | Epoch Time: 0m 41s\n",
      "\tTrain Loss: 0.014\n",
      "\tTrain R2: 0.913\n",
      "\tVal. Loss: 0.091\n",
      "\tVal. R2: 0.505\n"
     ]
    },
    {
     "name": "stderr",
     "output_type": "stream",
     "text": [
      "Training Model:  51%|█████     | 51/100 [27:31<26:02, 31.89s/epoch]"
     ]
    },
    {
     "name": "stdout",
     "output_type": "stream",
     "text": [
      "Epoch: 50 | Epoch Time: 0m 37s\n",
      "\tTrain Loss: 0.013\n",
      "\tTrain R2: 0.924\n",
      "\tVal. Loss: 0.090\n",
      "\tVal. R2: 0.512\n"
     ]
    },
    {
     "name": "stderr",
     "output_type": "stream",
     "text": [
      "Training Model:  61%|██████    | 61/100 [32:17<19:53, 30.61s/epoch]"
     ]
    },
    {
     "name": "stdout",
     "output_type": "stream",
     "text": [
      "Epoch: 60 | Epoch Time: 0m 34s\n",
      "\tTrain Loss: 0.011\n",
      "\tTrain R2: 0.935\n",
      "\tVal. Loss: 0.092\n",
      "\tVal. R2: 0.503\n"
     ]
    },
    {
     "name": "stderr",
     "output_type": "stream",
     "text": [
      "Training Model:  71%|███████   | 71/100 [38:07<17:53, 37.00s/epoch]"
     ]
    },
    {
     "name": "stdout",
     "output_type": "stream",
     "text": [
      "Epoch: 70 | Epoch Time: 0m 37s\n",
      "\tTrain Loss: 0.009\n",
      "\tTrain R2: 0.943\n",
      "\tVal. Loss: 0.095\n",
      "\tVal. R2: 0.477\n"
     ]
    },
    {
     "name": "stderr",
     "output_type": "stream",
     "text": [
      "Training Model:  81%|████████  | 81/100 [43:20<09:10, 28.99s/epoch]"
     ]
    },
    {
     "name": "stdout",
     "output_type": "stream",
     "text": [
      "Epoch: 80 | Epoch Time: 0m 30s\n",
      "\tTrain Loss: 0.008\n",
      "\tTrain R2: 0.951\n",
      "\tVal. Loss: 0.096\n",
      "\tVal. R2: 0.473\n"
     ]
    },
    {
     "name": "stderr",
     "output_type": "stream",
     "text": [
      "Training Model:  91%|█████████ | 91/100 [47:13<03:34, 23.87s/epoch]"
     ]
    },
    {
     "name": "stdout",
     "output_type": "stream",
     "text": [
      "Epoch: 90 | Epoch Time: 0m 22s\n",
      "\tTrain Loss: 0.007\n",
      "\tTrain R2: 0.955\n",
      "\tVal. Loss: 0.094\n",
      "\tVal. R2: 0.489\n"
     ]
    },
    {
     "name": "stderr",
     "output_type": "stream",
     "text": [
      "Training Model: 100%|██████████| 100/100 [50:31<00:00, 30.32s/epoch]\n"
     ]
    }
   ],
   "source": [
    "epochs = 100 #100 in literature\n",
    "\n",
    "best_valid_loss = float('inf')\n",
    "\n",
    "train_losses = []\n",
    "val_losses = []\n",
    "\n",
    "for epoch in tqdm(range(epochs), desc=\"Training Model\", unit=\"epoch\"):\n",
    "    start_time = time.monotonic()\n",
    "\n",
    "    train_loss, train_r2 = train(model, train_dataloader, optimizer, criterion)\n",
    "    valid_loss, val_r2 = evaluate(model, val_dataloader, criterion)\n",
    "\n",
    "    train_losses.append(float(train_loss))\n",
    "    val_losses.append(float(valid_loss))\n",
    "\n",
    "    if valid_loss < best_valid_loss:\n",
    "        best_valid_loss = valid_loss\n",
    "        save_model(model, config, \"./models/model_3.pt\")\n",
    "\n",
    "    end_time = time.monotonic()\n",
    "\n",
    "    epoch_mins, epoch_secs = epoch_time(start_time, end_time)\n",
    "    \n",
    "    if epoch % 10 == 0:\n",
    "        print(f\"Epoch: {epoch} | Epoch Time: {epoch_mins}m {epoch_secs}s\")\n",
    "        print(f\"\\tTrain Loss: {train_loss:.3f}\")\n",
    "        print(f\"\\tTrain R2: {train_r2:.3f}\")\n",
    "        print(f\"\\tVal. Loss: {valid_loss:.3f}\")\n",
    "        print(f\"\\tVal. R2: {val_r2:.3f}\")"
   ]
  },
  {
   "cell_type": "code",
   "execution_count": 56,
   "metadata": {},
   "outputs": [
    {
     "data": {
      "image/png": "[encoded data removed]",
      "text/plain": [
       "<Figure size 1800x300 with 1 Axes>"
      ]
     },
     "metadata": {},
     "output_type": "display_data"
    }
   ],
   "source": [
    "plt.figure(figsize=(18, 3)) \n",
    "\n",
    "# Plot the first line\n",
    "plt.plot(train_losses, c=\"red\", label=\"Training Loss\")\n",
    "\n",
    "# Plot the second line\n",
    "plt.plot(val_losses, c=\"blue\", label=\"Validation Loss\")\n",
    "\n",
    "# Add labels and title\n",
    "plt.xlabel(\"Epochs\")\n",
    "plt.ylabel(\"Loss\")\n",
    "plt.title(\"Validation & Training Loss Comparison\")\n",
    "plt.legend()  # Show legend with labels\n",
    "\n",
    "plt.show()"
   ]
  },
  {
   "cell_type": "code",
   "execution_count": 58,
   "metadata": {},
   "outputs": [
    {
     "name": "stderr",
     "output_type": "stream",
     "text": [
      "Evaluating:   0%|          | 0/132 [00:00<?, ?it/s]"
     ]
    },
    {
     "name": "stderr",
     "output_type": "stream",
     "text": [
      "                                                              "
     ]
    },
    {
     "name": "stdout",
     "output_type": "stream",
     "text": [
      "MSE on test set:  0.0789\n",
      "R2 score on test set:  0.5656\n"
     ]
    },
    {
     "name": "stderr",
     "output_type": "stream",
     "text": [
      "\r"
     ]
    }
   ],
   "source": [
    "model.load_state_dict(torch.load(\"./models/model_3.pt\"))\n",
    "\n",
    "test_loss, test_r2 = evaluate(model, test_dataloader, criterion)\n",
    "print(f\"MSE on test set:  {test_loss:.4f}\")\n",
    "print(f\"R2 score on test set:  {test_r2:.4f}\")"
   ]
  },
  {
   "cell_type": "markdown",
   "metadata": {},
   "source": [
    "Model_2 hyperparameters:\n",
    "```\n",
    "args = {\n",
    "    \"fp_dim\": 1024,\n",
    "    \"hidden_dim\": 64, #1869 in literature\n",
    "    \"N_MLP_layer\": 7, #7 in literature\n",
    "    \"N_predictor_layer\": 1, #1 in literature\n",
    "    \"N_properties\": 2, #S1 & T1 energies\n",
    "    \"dropout\": 0 #0 in literature\n",
    "}\n",
    "\n",
    "learning_rate = 10**-3.5075\n",
    "criterion = nn.L1Loss() #L1 used in literature\n",
    "```"
   ]
  },
  {
   "cell_type": "code",
   "execution_count": 68,
   "metadata": {},
   "outputs": [
    {
     "data": {
      "text/plain": [
       "'\\ndef load_model_and_config(model,filename):\\n    checkpoint = torch.load(filename)\\n    model.load_state_dict(checkpoint[\"model_state_dict\"])\\n    model.eval()\\n\\n    config = checkpoint[\"config\"]\\n    return model, config\\n\\n#Example usage:\\nloaded_model = FpMLP(config)\\nloaded_model, loaded_config = load_model_and_config(loaded_model, pathname)\\n\\n#Retrieve and print hyperparameters and settings\\nprint(\"Loaded Configuration:\")\\nfor key, value in loaded_config.items():\\n    print(f\"{key}: {value}\")\\n'"
      ]
     },
     "execution_count": 68,
     "metadata": {},
     "output_type": "execute_result"
    }
   ],
   "source": [
    "#Load model with specific configurations\n",
    "\"\"\"\n",
    "def load_model_and_config(model,filename):\n",
    "    checkpoint = torch.load(filename)\n",
    "    model.load_state_dict(checkpoint[\"model_state_dict\"])\n",
    "    model.eval()\n",
    "\n",
    "    config = checkpoint[\"config\"]\n",
    "    return model, config\n",
    "\n",
    "#Example usage:\n",
    "loaded_model = FpMLP(config)\n",
    "loaded_model, loaded_config = load_model_and_config(loaded_model, pathname)\n",
    "\n",
    "#Retrieve and print hyperparameters and settings\n",
    "print(\"Loaded Configuration:\")\n",
    "for key, value in loaded_config.items():\n",
    "    print(f\"{key}: {value}\")\n",
    "\"\"\""
   ]
  }
 ],
 "metadata": {
  "kernelspec": {
   "display_name": "Python 3",
   "language": "python",
   "name": "python3"
  },
  "language_info": {
   "codemirror_mode": {
    "name": "ipython",
    "version": 3
   },
   "file_extension": ".py",
   "mimetype": "text/x-python",
   "name": "python",
   "nbconvert_exporter": "python",
   "pygments_lexer": "ipython3",
   "version": "3.11.4"
  },
  "orig_nbformat": 4
 },
 "nbformat": 4,
 "nbformat_minor": 2
}
