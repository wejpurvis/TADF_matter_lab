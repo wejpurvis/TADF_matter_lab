{
 "cells": [
  {
   "cell_type": "markdown",
   "metadata": {},
   "source": [
    "## MIT ML Lecture series\n",
    "\n",
    "Notebook for hw & exercises"
   ]
  },
  {
   "cell_type": "code",
   "execution_count": 2,
   "metadata": {},
   "outputs": [
    {
     "name": "stdout",
     "output_type": "stream",
     "text": [
      "[[ 1]\n",
      " [-1]]\n",
      "[[ 1 -1]]\n"
     ]
    }
   ],
   "source": [
    "import numpy as np\n",
    "\n",
    "A1 = np.array([[1],[-1]])\n",
    "print(A1)\n",
    "print(A1.T)"
   ]
  },
  {
   "cell_type": "code",
   "execution_count": 33,
   "metadata": {},
   "outputs": [
    {
     "name": "stdout",
     "output_type": "stream",
     "text": [
      "New theta:  [-3  2]\n",
      "New label:  [1]\n",
      "New theta:  [-2  1]\n",
      "New label:  [0]\n",
      "New theta:  [-1  2]\n",
      "New label:  [-1]\n",
      "New theta:  [-3  0]\n",
      "New label:  [-2]\n",
      "New theta:  [-2 -1]\n",
      "New label:  [-3]\n",
      "New theta:  [-1  0]\n",
      "New label:  [-4]\n",
      "New theta:  [-4  2]\n",
      "New label:  [-3]\n",
      "New theta:  [-3  1]\n",
      "New label:  [-4]\n",
      "New theta:  [-2  0]\n",
      "New label:  [-5]\n"
     ]
    },
    {
     "data": {
      "text/plain": [
       "([-2, 0], [-5])"
      ]
     },
     "execution_count": 33,
     "metadata": {},
     "output_type": "execute_result"
    }
   ],
   "source": [
    "#Perceptron\n",
    "\n",
    "\n",
    "data1 = np.array([[-3,2], [-1,1], [-1,-1], [2,2], [1,-1]])\n",
    "data_l1 = np.array([1, -1, -1, -1 , -1])\n",
    "\n",
    "data2 = np.array([(0,0,0),(0,0,1),(0,1,0),(0,1,1),(1,0,0),(1,0,1),(1,1,0),(1,1,1)])\n",
    "data2l = np.array([[0,0,0,0,0,0,0,1]]\n",
    "\n",
    "epochs = 10\n",
    "\n",
    "def perceptron(inputs,labels):\n",
    "    \n",
    "    theta0 = np.array([0,0])\n",
    "    theta0_label = np.array([0])\n",
    "    \n",
    "    for _ in range(epochs):\n",
    "        changed = False\n",
    "        for input, label in zip(inputs,labels):\n",
    "            classifier = label * (np.dot(theta0.T, input) + theta0_label)\n",
    "            #print(\"Classifier: \", classifier)\n",
    "            if classifier <= 0:\n",
    "                theta0 = theta0 + (label * input)\n",
    "                theta0_label = theta0_label + label\n",
    "                print(\"New theta: \", theta0)\n",
    "                print(\"New label: \", theta0_label)\n",
    "                changed = True\n",
    "        if not changed:\n",
    "            break\n",
    "    return theta0.tolist(), theta0_label.tolist()\n",
    "\n",
    "\n",
    "\n",
    "perceptron(data1,data_l1)  \n"
   ]
  },
  {
   "cell_type": "code",
   "execution_count": 32,
   "metadata": {},
   "outputs": [
    {
     "name": "stdout",
     "output_type": "stream",
     "text": [
      "New theta:  [1. 2.]\n",
      "New theta:  [1. 1.]\n",
      "New theta:  [-0.5  0. ]\n",
      "New theta:  [ 0.5 -1. ]\n"
     ]
    },
    {
     "data": {
      "text/plain": [
       "[0.5, -1.0]"
      ]
     },
     "execution_count": 32,
     "metadata": {},
     "output_type": "execute_result"
    }
   ],
   "source": [
    "# Perceptron throuh origin\n",
    "\n",
    "data1 = np.array([[1,-1],[0,1],[-1.5,-1]])\n",
    "data_l1 = np.array([1, -1, 1])\n",
    "\n",
    "data2 = np.array([[0,1], [-1.5,-1], [1,-1]])\n",
    "data_l2 = np.array([-1, 1, 1])\n",
    "\n",
    "data3 = np.array([[1,-1],[0,1],[-10,-1]])\n",
    "data_l3 = np.array([1, -1, 1])\n",
    "\n",
    "data4 = np.array([[0,1],[-10,-1],[1,-1]])\n",
    "data_l4 = np.array([-1, 1, 1])\n",
    "\n",
    "epochs = 10\n",
    "\n",
    "def perceptron(inputs,labels):\n",
    "    \n",
    "    theta0 = np.array([0,3])\n",
    "    \n",
    "    for _ in range(epochs):\n",
    "        changed = False\n",
    "        for input, label in zip(inputs,labels):\n",
    "            classifier = label * np.dot(theta0.T, input)\n",
    "            #print(\"Classifier: \", classifier)\n",
    "            if classifier <= 0:\n",
    "                theta0 = theta0 + (label * input)\n",
    "                print(\"New theta: \", theta0)\n",
    "                changed = True\n",
    "        if not changed:\n",
    "            break\n",
    "    return theta0.tolist()\n",
    "\n",
    "\n",
    "\n",
    "perceptron(data1,data_l1)  \n"
   ]
  },
  {
   "cell_type": "code",
   "execution_count": 18,
   "metadata": {},
   "outputs": [
    {
     "name": "stdout",
     "output_type": "stream",
     "text": [
      "[[0]]\n"
     ]
    }
   ],
   "source": [
    "th0 = np.array([[0],[0]])\n",
    "th_0 = 0\n",
    "\n",
    "d1 = np.array([[1],[-1]])\n",
    "l1 = 1\n",
    "d2 = np.array([[0],[1]])\n",
    "l2 = -1\n",
    "d3 = np.array([[-1.5],[-1]])\n",
    "l3 = 1\n",
    "\n",
    "th1 = th0 +l1*d1\n",
    "th_01 = th_0 + l1\n",
    "\n",
    "#print((np.dot(th1.T, d3)+th_01))\n",
    "#print(th1)\n",
    "\n",
    "print(-1*(np.dot(th0.T, d2)))"
   ]
  },
  {
   "cell_type": "code",
   "execution_count": 37,
   "metadata": {},
   "outputs": [
    {
     "ename": "AttributeError",
     "evalue": "'int' object has no attribute 'tolist'",
     "output_type": "error",
     "traceback": [
      "\u001b[1;31m---------------------------------------------------------------------------\u001b[0m",
      "\u001b[1;31mAttributeError\u001b[0m                            Traceback (most recent call last)",
      "\u001b[1;32mc:\\Users\\William Purvis\\OneDrive - University of St Andrews\\Toronto\\TADF_matter_lab\\ML_learning\\MIT_ML_sandbox.ipynb Cell 6\u001b[0m in \u001b[0;36m<cell line: 4>\u001b[1;34m()\u001b[0m\n\u001b[0;32m      <a href='vscode-notebook-cell:/c%3A/Users/William%20Purvis/OneDrive%20-%20University%20of%20St%20Andrews/Toronto/TADF_matter_lab/ML_learning/MIT_ML_sandbox.ipynb#W5sZmlsZQ%3D%3D?line=0'>1</a>\u001b[0m \u001b[39m1\u001b[39m \u001b[39mand\u001b[39;00m \u001b[39m1\u001b[39m \u001b[39mand\u001b[39;00m \u001b[39m1\u001b[39m\n\u001b[0;32m      <a href='vscode-notebook-cell:/c%3A/Users/William%20Purvis/OneDrive%20-%20University%20of%20St%20Andrews/Toronto/TADF_matter_lab/ML_learning/MIT_ML_sandbox.ipynb#W5sZmlsZQ%3D%3D?line=1'>2</a>\u001b[0m res \u001b[39m=\u001b[39m \u001b[39m0\u001b[39m \u001b[39mand\u001b[39;00m \u001b[39m1\u001b[39m \u001b[39mand\u001b[39;00m \u001b[39m0\u001b[39m\n\u001b[1;32m----> <a href='vscode-notebook-cell:/c%3A/Users/William%20Purvis/OneDrive%20-%20University%20of%20St%20Andrews/Toronto/TADF_matter_lab/ML_learning/MIT_ML_sandbox.ipynb#W5sZmlsZQ%3D%3D?line=3'>4</a>\u001b[0m res\u001b[39m.\u001b[39;49mtolist()\n",
      "\u001b[1;31mAttributeError\u001b[0m: 'int' object has no attribute 'tolist'"
     ]
    }
   ],
   "source": [
    "1 and 1 and 1\n",
    "res = 0 and 1 and 0\n",
    "\n"
   ]
  }
 ],
 "metadata": {
  "kernelspec": {
   "display_name": "base",
   "language": "python",
   "name": "python3"
  },
  "language_info": {
   "codemirror_mode": {
    "name": "ipython",
    "version": 3
   },
   "file_extension": ".py",
   "mimetype": "text/x-python",
   "name": "python",
   "nbconvert_exporter": "python",
   "pygments_lexer": "ipython3",
   "version": "3.9.12"
  },
  "orig_nbformat": 4
 },
 "nbformat": 4,
 "nbformat_minor": 2
}
